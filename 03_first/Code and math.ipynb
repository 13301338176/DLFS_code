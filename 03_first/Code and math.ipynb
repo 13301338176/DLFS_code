{
 "cells": [
  {
   "cell_type": "code",
   "execution_count": 1,
   "metadata": {},
   "outputs": [],
   "source": [
    "import torch\n",
    "from torch import Tensor\n",
    "import numpy as np\n",
    "torch.manual_seed(70318)\n",
    "\n",
    "from typing import Dict\n",
    "\n",
    "from helper import (sigmoid, \n",
    "                    to_2d)"
   ]
  },
  {
   "cell_type": "markdown",
   "metadata": {},
   "source": [
    "### Step 1"
   ]
  },
  {
   "cell_type": "code",
   "execution_count": 2,
   "metadata": {},
   "outputs": [],
   "source": [
    "# constants \n",
    "n = 1"
   ]
  },
  {
   "cell_type": "code",
   "execution_count": 3,
   "metadata": {},
   "outputs": [
    {
     "data": {
      "text/plain": [
       "tensor([[ 0.1687,  0.3994,  0.2128]])"
      ]
     },
     "execution_count": 3,
     "metadata": {},
     "output_type": "execute_result"
    }
   ],
   "source": [
    "X = torch.rand(n, 3)\n",
    "X"
   ]
  },
  {
   "cell_type": "markdown",
   "metadata": {},
   "source": [
    "$ \\begin{bmatrix} x_1 & x_2 & x_3 \\end{bmatrix} $"
   ]
  },
  {
   "cell_type": "markdown",
   "metadata": {},
   "source": [
    "Transforming this into first layer:"
   ]
  },
  {
   "cell_type": "markdown",
   "metadata": {},
   "source": [
    "$$ \n",
    "a_1 = x_1 * v_{11} + x_2 * v_{21} + x_3 * v_{31} + i_{11}\n",
    "$$"
   ]
  },
  {
   "cell_type": "markdown",
   "metadata": {},
   "source": [
    "$$ \n",
    "a_2 = x_1 * v_{12} + x_2 * v_{22} + x_3 * v_{32} + i_{12}\n",
    "$$"
   ]
  },
  {
   "cell_type": "markdown",
   "metadata": {},
   "source": [
    "We can also write this as:"
   ]
  },
  {
   "cell_type": "markdown",
   "metadata": {},
   "source": [
    "$$ A = X * V + I $$"
   ]
  },
  {
   "cell_type": "code",
   "execution_count": 4,
   "metadata": {},
   "outputs": [],
   "source": [
    "V = torch.randn(3,4)\n",
    "I = torch.randn(1,4)"
   ]
  },
  {
   "cell_type": "code",
   "execution_count": 5,
   "metadata": {},
   "outputs": [
    {
     "name": "stdout",
     "output_type": "stream",
     "text": [
      "tensor([[ 0.5258, -0.4453,  0.9763, -1.8463]])\n"
     ]
    }
   ],
   "source": [
    "A = torch.mm(X, V) + I\n",
    "print(A)"
   ]
  },
  {
   "cell_type": "code",
   "execution_count": 6,
   "metadata": {},
   "outputs": [],
   "source": [
    "B = sigmoid(A)"
   ]
  },
  {
   "cell_type": "code",
   "execution_count": 7,
   "metadata": {},
   "outputs": [
    {
     "data": {
      "text/plain": [
       "tensor([[ 0.6285,  0.3905,  0.7264,  0.1363]])"
      ]
     },
     "execution_count": 7,
     "metadata": {},
     "output_type": "execute_result"
    }
   ],
   "source": [
    "B"
   ]
  },
  {
   "cell_type": "code",
   "execution_count": 8,
   "metadata": {},
   "outputs": [
    {
     "name": "stdout",
     "output_type": "stream",
     "text": [
      "tensor([[ 0.7252]])\n"
     ]
    }
   ],
   "source": [
    "W = torch.randn(4, 1)\n",
    "J = torch.randn(1, 1)\n",
    "\n",
    "C = torch.mm(B, W) + J\n",
    "print(C)"
   ]
  },
  {
   "cell_type": "code",
   "execution_count": 9,
   "metadata": {},
   "outputs": [
    {
     "name": "stdout",
     "output_type": "stream",
     "text": [
      "tensor([[ 0.6738]])\n"
     ]
    }
   ],
   "source": [
    "P = sigmoid(C)\n",
    "print(P)"
   ]
  },
  {
   "cell_type": "markdown",
   "metadata": {},
   "source": [
    "$$\n",
    "\\begin{bmatrix}c_1\\end{bmatrix} = \n",
    "\\begin{bmatrix}b_1 & b_2 & b_3 & b_4\\end{bmatrix} *\n",
    "\\begin{bmatrix}w_{11} \\\\ w_{21} \\\\ w_{31} \\\\ w_{41} \\end{bmatrix} + \\begin{bmatrix}j_1\\end{bmatrix} = \n",
    "\\begin{bmatrix} w_{11} * b_1 + w_{21} * b_2 + w_{31} * b_3 + w_{41} * b_4 + j_1 \\end{bmatrix}\n",
    "$$"
   ]
  },
  {
   "cell_type": "markdown",
   "metadata": {},
   "source": [
    "$ p_1 = \\sigma(c_1) $"
   ]
  },
  {
   "cell_type": "code",
   "execution_count": 10,
   "metadata": {},
   "outputs": [
    {
     "name": "stdout",
     "output_type": "stream",
     "text": [
      "tensor([[ 0.]])\n"
     ]
    }
   ],
   "source": [
    "Y = torch.randint(high=2, size=(n, 1))\n",
    "print(Y)"
   ]
  },
  {
   "cell_type": "code",
   "execution_count": 11,
   "metadata": {},
   "outputs": [],
   "source": [
    "def mse_loss(p: Tensor, \n",
    "             y: Tensor) -> Tensor:\n",
    "    \n",
    "    return torch.pow(p - y, 2)"
   ]
  },
  {
   "cell_type": "code",
   "execution_count": 12,
   "metadata": {},
   "outputs": [],
   "source": [
    "L = mse_loss(P, Y)"
   ]
  },
  {
   "cell_type": "code",
   "execution_count": 13,
   "metadata": {},
   "outputs": [
    {
     "name": "stdout",
     "output_type": "stream",
     "text": [
      "tensor([[ 0.6738]])\n"
     ]
    }
   ],
   "source": [
    "dLdP = -1.0 * (Y - P)\n",
    "print(dLdP)"
   ]
  },
  {
   "cell_type": "code",
   "execution_count": 14,
   "metadata": {},
   "outputs": [
    {
     "name": "stdout",
     "output_type": "stream",
     "text": [
      "tensor([[ 0.2198]])\n"
     ]
    }
   ],
   "source": [
    "dPdC = sigmoid(C) * (1 - sigmoid(C))\n",
    "print(dPdC)"
   ]
  },
  {
   "cell_type": "code",
   "execution_count": 15,
   "metadata": {},
   "outputs": [
    {
     "name": "stdout",
     "output_type": "stream",
     "text": [
      "tensor([[ 0.1481]])\n"
     ]
    }
   ],
   "source": [
    "dLdC = dLdP * dPdC\n",
    "print(dLdC)"
   ]
  },
  {
   "cell_type": "code",
   "execution_count": 16,
   "metadata": {
    "scrolled": true
   },
   "outputs": [
    {
     "name": "stdout",
     "output_type": "stream",
     "text": [
      "tensor([[ 0.0931],\n",
      "        [ 0.0578],\n",
      "        [ 0.1076],\n",
      "        [ 0.0202]])\n"
     ]
    }
   ],
   "source": [
    "dLdW = torch.mm(B.transpose(0, 1), dLdC)\n",
    "print(dLdW)"
   ]
  },
  {
   "cell_type": "code",
   "execution_count": 17,
   "metadata": {},
   "outputs": [
    {
     "data": {
      "text/plain": [
       "tensor([[ 0.1481]])"
      ]
     },
     "execution_count": 17,
     "metadata": {},
     "output_type": "execute_result"
    }
   ],
   "source": [
    "dLdC"
   ]
  },
  {
   "cell_type": "code",
   "execution_count": 18,
   "metadata": {},
   "outputs": [
    {
     "data": {
      "text/plain": [
       "torch.Size([1, 1])"
      ]
     },
     "execution_count": 18,
     "metadata": {},
     "output_type": "execute_result"
    }
   ],
   "source": [
    "dLdC.shape"
   ]
  },
  {
   "cell_type": "code",
   "execution_count": 19,
   "metadata": {},
   "outputs": [
    {
     "name": "stdout",
     "output_type": "stream",
     "text": [
      "tensor([[ 0.1481]])\n"
     ]
    }
   ],
   "source": [
    "dLdJ = dLdC.sum(dim=0).reshape(1, 1)\n",
    "print(dLdJ)"
   ]
  },
  {
   "cell_type": "code",
   "execution_count": 20,
   "metadata": {},
   "outputs": [
    {
     "name": "stdout",
     "output_type": "stream",
     "text": [
      "tensor([[ 0.0530,  0.0311,  0.1894,  0.0563]])\n"
     ]
    }
   ],
   "source": [
    "dLdB = torch.mm(dLdC, W.transpose(0, 1))\n",
    "print(dLdB)"
   ]
  },
  {
   "cell_type": "code",
   "execution_count": 21,
   "metadata": {},
   "outputs": [
    {
     "name": "stdout",
     "output_type": "stream",
     "text": [
      "tensor(1.00000e-02 *\n",
      "       [[ 1.2373,  0.7395,  3.7642,  0.6624]])\n"
     ]
    }
   ],
   "source": [
    "dBdA = sigmoid(A) * (1 - sigmoid(A))\n",
    "dLdA = dLdB * dBdA\n",
    "print(dLdA)"
   ]
  },
  {
   "cell_type": "code",
   "execution_count": 22,
   "metadata": {},
   "outputs": [
    {
     "name": "stdout",
     "output_type": "stream",
     "text": [
      "tensor(1.00000e-02 *\n",
      "       [[ 0.2088,  0.1248,  0.6352,  0.1118],\n",
      "        [ 0.4941,  0.2953,  1.5033,  0.2645],\n",
      "        [ 0.2632,  0.1573,  0.8008,  0.1409]])\n"
     ]
    }
   ],
   "source": [
    "dLdV = torch.mm(X.transpose(0, 1), dLdA)\n",
    "print(dLdV)"
   ]
  },
  {
   "cell_type": "code",
   "execution_count": 23,
   "metadata": {},
   "outputs": [
    {
     "name": "stdout",
     "output_type": "stream",
     "text": [
      "tensor(1.00000e-02 *\n",
      "       [[ 1.2373,  0.7395,  3.7642,  0.6624]])\n"
     ]
    }
   ],
   "source": [
    "dLdI = dLdA.sum(dim=0).reshape(1, 4)\n",
    "print(dLdI)"
   ]
  },
  {
   "cell_type": "markdown",
   "metadata": {},
   "source": [
    "### Update the weights"
   ]
  },
  {
   "cell_type": "code",
   "execution_count": 24,
   "metadata": {},
   "outputs": [],
   "source": [
    "learning_rate = 0.01"
   ]
  },
  {
   "cell_type": "code",
   "execution_count": 25,
   "metadata": {},
   "outputs": [],
   "source": [
    "V = V - learning_rate * dLdV\n",
    "I = I - learning_rate * dLdI\n",
    "\n",
    "W = W - learning_rate * dLdW\n",
    "J = J - learning_rate * dLdJ"
   ]
  },
  {
   "cell_type": "code",
   "execution_count": 26,
   "metadata": {},
   "outputs": [],
   "source": [
    "def train_neural_net(X: Tensor, \n",
    "                     Y: Tensor,\n",
    "                     weights: Dict[str, Tensor] = None,\n",
    "                     learning_rate: float = 1.0):\n",
    "\n",
    "    # check consistent batch sizes\n",
    "    assert X.shape[0] == Y.shape[0]\n",
    "\n",
    "    # forward pass\n",
    "    if not weights:\n",
    "        weights: Dict[str, Tensor] = {}\n",
    "        weights['V'] = torch.randn(3, 4)\n",
    "        weights['I'] = torch.randn(1, 4)\n",
    "    A = torch.mm(X, weights['V']) + I\n",
    "    B = sigmoid(A)\n",
    "    \n",
    "    if 'W' not in weights:\n",
    "        weights['W'] = torch.randn(4, 1)\n",
    "        weights['J'] = torch.randn(1, 1)\n",
    "    C = torch.mm(B, weights['W']) + J\n",
    "    P = sigmoid(C)\n",
    "    \n",
    "    # loss\n",
    "    L = mse_loss(P, Y)\n",
    "    \n",
    "    # backpropagation\n",
    "    dLdP = -1.0 * (Y - P)\n",
    "    dPdC = sigmoid(C) * (1 - sigmoid(C))\n",
    "    dLdC = dLdP * dPdC\n",
    "    dLdW = torch.mm(B.transpose(0, 1), dLdC)\n",
    "    dLdJ = dLdC.sum(dim=0).reshape(1, 1)\n",
    "    \n",
    "    dLdB = torch.mm(dLdC, weights['W'].transpose(0, 1))\n",
    "    dBdA = sigmoid(A) * (1 - sigmoid(A))\n",
    "    dLdA = dLdB * dBdA\n",
    "    \n",
    "    dLdV = torch.mm(X.transpose(0, 1), dLdA)\n",
    "    dLdI = dLdA.sum(dim=0).reshape(1, 4)\n",
    "    \n",
    "    # update the weights\n",
    "    weights['V'] = weights['V'] - learning_rate * dLdV\n",
    "    weights['I'] = weights['I'] - learning_rate * dLdI\n",
    "\n",
    "    weights['W'] = weights['W'] - learning_rate * dLdW\n",
    "    weights['J'] = weights['J'] - learning_rate * dLdJ\n",
    "    \n",
    "    return weights"
   ]
  },
  {
   "cell_type": "markdown",
   "metadata": {},
   "source": [
    "### Toy example training"
   ]
  },
  {
   "cell_type": "code",
   "execution_count": 27,
   "metadata": {},
   "outputs": [],
   "source": [
    "from nn_helper import (generate_x_y, \n",
    "                       train_and_display, \n",
    "                       accuracy_binary)"
   ]
  },
  {
   "cell_type": "code",
   "execution_count": 28,
   "metadata": {},
   "outputs": [
    {
     "data": {
      "text/html": [
       "<div>\n",
       "<style scoped>\n",
       "    .dataframe tbody tr th:only-of-type {\n",
       "        vertical-align: middle;\n",
       "    }\n",
       "\n",
       "    .dataframe tbody tr th {\n",
       "        vertical-align: top;\n",
       "    }\n",
       "\n",
       "    .dataframe thead th {\n",
       "        text-align: right;\n",
       "    }\n",
       "</style>\n",
       "<table border=\"1\" class=\"dataframe\">\n",
       "  <thead>\n",
       "    <tr style=\"text-align: right;\">\n",
       "      <th></th>\n",
       "      <th>X1</th>\n",
       "      <th>X2</th>\n",
       "      <th>X3</th>\n",
       "      <th>y</th>\n",
       "    </tr>\n",
       "  </thead>\n",
       "  <tbody>\n",
       "    <tr>\n",
       "      <th>0</th>\n",
       "      <td>0</td>\n",
       "      <td>0</td>\n",
       "      <td>1</td>\n",
       "      <td>0</td>\n",
       "    </tr>\n",
       "    <tr>\n",
       "      <th>1</th>\n",
       "      <td>0</td>\n",
       "      <td>1</td>\n",
       "      <td>0</td>\n",
       "      <td>1</td>\n",
       "    </tr>\n",
       "    <tr>\n",
       "      <th>2</th>\n",
       "      <td>1</td>\n",
       "      <td>1</td>\n",
       "      <td>0</td>\n",
       "      <td>1</td>\n",
       "    </tr>\n",
       "    <tr>\n",
       "      <th>3</th>\n",
       "      <td>0</td>\n",
       "      <td>1</td>\n",
       "      <td>1</td>\n",
       "      <td>0</td>\n",
       "    </tr>\n",
       "    <tr>\n",
       "      <th>4</th>\n",
       "      <td>1</td>\n",
       "      <td>0</td>\n",
       "      <td>1</td>\n",
       "      <td>0</td>\n",
       "    </tr>\n",
       "    <tr>\n",
       "      <th>5</th>\n",
       "      <td>1</td>\n",
       "      <td>1</td>\n",
       "      <td>1</td>\n",
       "      <td>0</td>\n",
       "    </tr>\n",
       "    <tr>\n",
       "      <th>6</th>\n",
       "      <td>0</td>\n",
       "      <td>0</td>\n",
       "      <td>0</td>\n",
       "      <td>1</td>\n",
       "    </tr>\n",
       "    <tr>\n",
       "      <th>7</th>\n",
       "      <td>1</td>\n",
       "      <td>0</td>\n",
       "      <td>0</td>\n",
       "      <td>1</td>\n",
       "    </tr>\n",
       "  </tbody>\n",
       "</table>\n",
       "</div>"
      ],
      "text/plain": [
       "   X1  X2  X3  y\n",
       "0   0   0   1  0\n",
       "1   0   1   0  1\n",
       "2   1   1   0  1\n",
       "3   0   1   1  0\n",
       "4   1   0   1  0\n",
       "5   1   1   1  0\n",
       "6   0   0   0  1\n",
       "7   1   0   0  1"
      ]
     },
     "execution_count": 28,
     "metadata": {},
     "output_type": "execute_result"
    }
   ],
   "source": [
    "df, X, y = generate_x_y(random_seed=70318)\n",
    "X, y = Tensor(X), Tensor(y)\n",
    "df"
   ]
  },
  {
   "cell_type": "markdown",
   "metadata": {},
   "source": [
    "#### Select random row"
   ]
  },
  {
   "cell_type": "code",
   "execution_count": 29,
   "metadata": {},
   "outputs": [],
   "source": [
    "def random_row(X: Tensor, \n",
    "               y: Tensor) -> Tensor:\n",
    "    num_rows = X.shape[0]\n",
    "    \n",
    "    ind = int(torch.randint(0, num_rows, size=(1,)).item())\n",
    "    \n",
    "    X_row = X[ind]\n",
    "    y_row = y[ind]\n",
    "    \n",
    "    return to_2d(X_row, \"row\"), to_2d(y_row, \"row\")"
   ]
  },
  {
   "cell_type": "code",
   "execution_count": 30,
   "metadata": {},
   "outputs": [],
   "source": [
    "def neural_net_predict(X: Tensor, \n",
    "                       weights: Dict[str, Tensor],\n",
    "                       learning_rate: float = 1.0) -> Tensor:\n",
    "\n",
    "    A = torch.mm(X, weights['V']) + I\n",
    "    B = sigmoid(A)\n",
    "    \n",
    "    C = torch.mm(B, weights['W']) + J\n",
    "    P = sigmoid(C)\n",
    "\n",
    "    return P"
   ]
  },
  {
   "cell_type": "code",
   "execution_count": 31,
   "metadata": {},
   "outputs": [],
   "source": [
    "def cross_entropy(predictions: Tensor, \n",
    "                  actual: Tensor) -> Tensor:\n",
    "    \n",
    "    assert predictions.shape == actual.shape, \\\n",
    "    \"Prediction and actual must have same shape\"\n",
    "    \n",
    "    return -1.0 * actual * torch.log(predictions) - (1.0 - actual) * torch.log(1 - predictions)"
   ]
  },
  {
   "cell_type": "code",
   "execution_count": 32,
   "metadata": {},
   "outputs": [],
   "source": [
    "def log_loss(X: Tensor, \n",
    "             y: Tensor,\n",
    "             weights: Dict[str, Tensor]) -> Tensor:\n",
    "\n",
    "    P = neural_net_predict(X, weights)\n",
    "    \n",
    "    ce = cross_entropy(P, y)\n",
    "\n",
    "    return float(torch.mean(ce).item())"
   ]
  },
  {
   "cell_type": "code",
   "execution_count": 33,
   "metadata": {},
   "outputs": [
    {
     "data": {
      "text/plain": [
       "(tensor([[ 0.,  0.,  1.]]), tensor([[ 0.]]))"
      ]
     },
     "execution_count": 33,
     "metadata": {},
     "output_type": "execute_result"
    }
   ],
   "source": [
    "random_row(X, y)"
   ]
  },
  {
   "cell_type": "code",
   "execution_count": 52,
   "metadata": {},
   "outputs": [],
   "source": [
    "weights = None\n",
    "iterations_per_epoch = 8\n",
    "num_epochs = 100\n",
    "print_every = 50\n",
    "\n",
    "torch.manual_seed(70318)\n",
    "\n",
    "for i in range(iterations_per_epoch * num_epochs):\n",
    "\n",
    "    X_row, y_row = random_row(X, y)\n",
    "\n",
    "    # Update the weights by feeding one row of data through the neural net\n",
    "    weights = train_neural_net(X_row, y_row, weights, 4)\n",
    "\n",
    "preds = neural_net_predict(X, weights)\n",
    "\n",
    "cross_entropy_loss = cross_entropy(preds, y)"
   ]
  },
  {
   "cell_type": "code",
   "execution_count": 53,
   "metadata": {},
   "outputs": [
    {
     "data": {
      "text/plain": [
       "tensor([[ 0.0223,  0.0000,  0.0226],\n",
       "        [ 0.9785,  1.0000,  0.0217],\n",
       "        [ 0.9879,  1.0000,  0.0122],\n",
       "        [ 0.0258,  0.0000,  0.0261],\n",
       "        [ 0.0284,  0.0000,  0.0288],\n",
       "        [ 0.0291,  0.0000,  0.0296],\n",
       "        [ 0.9611,  1.0000,  0.0397],\n",
       "        [ 0.9806,  1.0000,  0.0196]])"
      ]
     },
     "execution_count": 53,
     "metadata": {},
     "output_type": "execute_result"
    }
   ],
   "source": [
    "torch.cat([preds, y, cross_entropy_loss], dim=1)"
   ]
  }
 ],
 "metadata": {
  "kernelspec": {
   "display_name": "Python 3",
   "language": "python",
   "name": "python3"
  },
  "language_info": {
   "codemirror_mode": {
    "name": "ipython",
    "version": 3
   },
   "file_extension": ".py",
   "mimetype": "text/x-python",
   "name": "python",
   "nbconvert_exporter": "python",
   "pygments_lexer": "ipython3",
   "version": "3.6.6"
  }
 },
 "nbformat": 4,
 "nbformat_minor": 2
}
