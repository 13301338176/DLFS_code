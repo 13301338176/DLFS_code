{
 "cells": [
  {
   "cell_type": "markdown",
   "metadata": {},
   "source": [
    "## Autograd"
   ]
  },
  {
   "cell_type": "code",
   "execution_count": 1,
   "metadata": {},
   "outputs": [],
   "source": [
    "from typing import Union, List\n",
    "\n",
    "import numpy as np\n",
    "from numpy import ndarray as array"
   ]
  },
  {
   "cell_type": "code",
   "execution_count": 2,
   "metadata": {},
   "outputs": [
    {
     "data": {
      "text/plain": [
       "7"
      ]
     },
     "execution_count": 2,
     "metadata": {},
     "output_type": "execute_result"
    }
   ],
   "source": [
    "a = 3\n",
    "a.__add__(4)"
   ]
  },
  {
   "cell_type": "code",
   "execution_count": 3,
   "metadata": {},
   "outputs": [
    {
     "data": {
      "text/plain": [
       "array(3)"
      ]
     },
     "execution_count": 3,
     "metadata": {},
     "output_type": "execute_result"
    }
   ],
   "source": [
    "np.array(3)"
   ]
  },
  {
   "cell_type": "code",
   "execution_count": 4,
   "metadata": {},
   "outputs": [
    {
     "data": {
      "text/plain": [
       "array([-1.28822975e-231,  4.34316085e-311,  4.47039685e-033])"
      ]
     },
     "execution_count": 4,
     "metadata": {},
     "output_type": "execute_result"
    }
   ],
   "source": [
    "c = array(3)\n",
    "c"
   ]
  },
  {
   "cell_type": "code",
   "execution_count": 5,
   "metadata": {},
   "outputs": [
    {
     "name": "stdout",
     "output_type": "stream",
     "text": [
      "Addition using '__add__': [[4. 4. 4.]\n",
      " [4. 4. 4.]\n",
      " [4. 4. 4.]]\n",
      "Addition using '+': [[4. 4. 4.]\n",
      " [4. 4. 4.]\n",
      " [4. 4. 4.]]\n"
     ]
    }
   ],
   "source": [
    "a = array([3,3])\n",
    "print(\"Addition using '__add__':\", a.__add__(4))\n",
    "print(\"Addition using '+':\", a + 4)"
   ]
  },
  {
   "cell_type": "code",
   "execution_count": 6,
   "metadata": {},
   "outputs": [],
   "source": [
    "Addable = Union[float, int]\n",
    "\n",
    "Numberable = Union[Addable, float, int]\n",
    "\n",
    "def ensure_Number(num: Numberable):\n",
    "    if isinstance(num, NumberWithGrad):\n",
    "        return num\n",
    "    else:\n",
    "        return NumberWithGrad(num)        \n",
    "\n",
    "class NumberWithGrad(object):\n",
    "    \n",
    "    def __init__(self, \n",
    "                 num: Addable,\n",
    "                 depends_on: List[Addable] = None,\n",
    "                 creation_op: str = ''):\n",
    "        self.num = num\n",
    "        self.grad = None\n",
    "        self.depends_on = depends_on or []\n",
    "        self.creation_op = creation_op\n",
    "\n",
    "    def __add__(self, \n",
    "                other: Numberable):\n",
    "        return NumberWithGrad(self.num + ensure_Number(other).num,\n",
    "                              depends_on = [self, ensure_Number(other)],\n",
    "                              creation_op = 'add')\n",
    "    \n",
    "    def __mul__(self,\n",
    "                other: Numberable = None):\n",
    "\n",
    "        return NumberWithGrad(self.num * ensure_Number(other).num,\n",
    "                              depends_on = [self, ensure_Number(other)],\n",
    "                              creation_op = 'mul')\n",
    "    def sum(self):\n",
    "\n",
    "        return special_sum(self)\n",
    "    \n",
    "    def backward(self, backward_grad: Addable = None):\n",
    "        if backward_grad is None: # first time calling backward\n",
    "            self.grad = 1\n",
    "        else: \n",
    "            if self.grad is None:\n",
    "                self.grad = backward_grad\n",
    "            else:\n",
    "                self.grad += backward_grad\n",
    "        \n",
    "        if(self.creation_op == \"add\"):\n",
    "            self.depends_on[0].backward(self.grad)\n",
    "            self.depends_on[1].backward(self.grad)    \n",
    "\n",
    "        if(self.creation_op == \"mul\"):\n",
    "            \n",
    "            new = self.depends_on[1] * self.grad\n",
    "            self.depends_on[0].backward(new.num)\n",
    "            new = self.depends_on[0] * self.grad\n",
    "            self.depends_on[1].backward(new.num)"
   ]
  },
  {
   "cell_type": "code",
   "execution_count": 7,
   "metadata": {},
   "outputs": [],
   "source": [
    "a = NumberWithGrad(3)"
   ]
  },
  {
   "cell_type": "code",
   "execution_count": 8,
   "metadata": {},
   "outputs": [],
   "source": [
    "b = a * 4\n",
    "c = b + 3\n",
    "d = (a + 2)\n",
    "e = c * d \n",
    "e.backward()"
   ]
  },
  {
   "cell_type": "markdown",
   "metadata": {},
   "source": [
    "## PyTorch"
   ]
  },
  {
   "cell_type": "code",
   "execution_count": 10,
   "metadata": {},
   "outputs": [],
   "source": [
    "import torch\n",
    "from torch import Tensor"
   ]
  },
  {
   "cell_type": "code",
   "execution_count": 11,
   "metadata": {},
   "outputs": [
    {
     "name": "stdout",
     "output_type": "stream",
     "text": [
      "[[3. 3.]\n",
      " [3. 3.]]\n",
      "tensor([[3., 3.],\n",
      "        [3., 3.]], dtype=torch.float64, requires_grad=True)\n"
     ]
    }
   ],
   "source": [
    "torch.manual_seed(20190324)\n",
    "array_data = np.full((2,2), 3.0)\n",
    "print(array_data)\n",
    "a = torch.tensor(array_data, requires_grad=True)\n",
    "print(a)"
   ]
  },
  {
   "cell_type": "code",
   "execution_count": 12,
   "metadata": {},
   "outputs": [],
   "source": [
    "b = a * 4\n",
    "c = b + 3\n",
    "d = (a + 2)\n",
    "e = c * d\n",
    "e_sum = e.sum()\n",
    "e_sum.backward()"
   ]
  },
  {
   "cell_type": "code",
   "execution_count": 13,
   "metadata": {},
   "outputs": [
    {
     "data": {
      "text/plain": [
       "tensor([[35., 35.],\n",
       "        [35., 35.]], dtype=torch.float64)"
      ]
     },
     "execution_count": 13,
     "metadata": {},
     "output_type": "execute_result"
    }
   ],
   "source": [
    "a.grad"
   ]
  }
 ],
 "metadata": {
  "kernelspec": {
   "display_name": "Python 3",
   "language": "python",
   "name": "python3"
  },
  "language_info": {
   "codemirror_mode": {
    "name": "ipython",
    "version": 3
   },
   "file_extension": ".py",
   "mimetype": "text/x-python",
   "name": "python",
   "nbconvert_exporter": "python",
   "pygments_lexer": "ipython3",
   "version": "3.6.6"
  }
 },
 "nbformat": 4,
 "nbformat_minor": 2
}
