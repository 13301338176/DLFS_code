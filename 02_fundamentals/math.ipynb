{
 "cells": [
  {
   "cell_type": "markdown",
   "metadata": {},
   "source": [
    "### P-$\\beta$ loss"
   ]
  },
  {
   "cell_type": "markdown",
   "metadata": {},
   "source": [
    "$$ X = \\begin{bmatrix} \\begin{bmatrix} x_{11} & x_{12} & x_{13} & \\ldots & x_{1n} \\end{bmatrix} \\end{bmatrix} $$\n",
    "\n",
    "$$ \\beta = \\begin{bmatrix}\\beta_1\\\\\\beta_2\\\\\\beta_3\\\\\\vdots\\\\\\beta_{n}\\end{bmatrix} $$\n",
    "\n",
    "$$ X * \\beta = P = \\begin{bmatrix} \\begin{bmatrix} x_{11} * \\beta_1 & x_{12} * \\beta_2 & x_{13} * \\beta_3 & \\ldots & x_{1n} * \\beta_n \\end{bmatrix} \\end{bmatrix} $$"
   ]
  },
  {
   "cell_type": "markdown",
   "metadata": {},
   "source": [
    "$$ \\frac{\\partial P}{\\partial \\beta} = \\begin{bmatrix} \\begin{bmatrix}\\frac{\\partial P}{\\partial \\beta_1}\\end{bmatrix} \\\\ \\begin{bmatrix} \\frac{\\partial P}{\\partial \\beta_2} \\end{bmatrix} \\\\ \\begin{bmatrix} \\frac{\\partial P}{\\partial \\beta_3} \\end{bmatrix} \\\\ \\vdots \\\\ \\begin{bmatrix} \\frac{\\partial P}{\\partial \\beta_n} \\end{bmatrix} \\end{bmatrix} $$"
   ]
  },
  {
   "cell_type": "markdown",
   "metadata": {},
   "source": [
    "$$ \\begin{align} \\frac{\\partial P}{\\partial \\beta_1} =& x_{11} \n",
    "\\\\ \\frac{\\partial P}{\\partial \\beta_2} =& x_{12} \n",
    "\\\\ \\vdots\n",
    "\\\\ \\frac{\\partial P}{\\partial \\beta_n} =& x_{1n} \n",
    "\\end{align} $$ "
   ]
  },
  {
   "cell_type": "markdown",
   "metadata": {},
   "source": [
    "$$ \\frac{\\partial P}{\\partial \\beta} = \\begin{bmatrix}\\frac{\\partial P}{\\partial \\beta_1} \\\\ \\frac{\\partial P}{\\partial \\beta_2} \\\\ \\frac{\\partial P}{\\partial \\beta_3} \\\\ \\vdots \\\\ \\frac{\\partial P}{\\partial \\beta_n} \\end{bmatrix} =\n",
    "\\begin{bmatrix} \\begin{bmatrix} x_{11} \\end{bmatrix} \\\\ \\begin{bmatrix} x_{12} \\end{bmatrix} \\\\ \\begin{bmatrix} x_{13} \\end{bmatrix} \\\\ \\vdots \\\\ \\begin{bmatrix} x_{1n} \\end{bmatrix} \\end{bmatrix} = X^T $$"
   ]
  },
  {
   "cell_type": "markdown",
   "metadata": {},
   "source": [
    "### Actual-P loss"
   ]
  },
  {
   "cell_type": "markdown",
   "metadata": {},
   "source": [
    "$$ \\frac{\\partial l}{\\partial P} = \\begin{bmatrix} (2 * (y_1 - p_1)) * -1 \\end{bmatrix} $$"
   ]
  },
  {
   "cell_type": "markdown",
   "metadata": {},
   "source": [
    "$$ \\begin{align} \n",
    "\\frac{\\partial L}{\\partial \\beta} =& \\frac{\\partial L}{\\partial P} * \\frac{\\partial P}{\\partial \\beta} \\\\ \n",
    "=& \\begin{bmatrix} x_1 \\\\ x_2 \\\\ x_3 \\\\ \\vdots \\\\ x_n \\end{bmatrix} * \\begin{bmatrix} (2 * (y_1 - p_1)) * -1 \\end{bmatrix} \\\\\n",
    "=& \\begin{bmatrix}x_1 + (-2 * (A - P)) \\\\ x_2 + (-2 * (A - P)) \\\\ x_3 + (-2 * (A - P)) \\\\ \\vdots \\\\ x_n + (-2 * (A - P)) \\end{bmatrix}\n",
    "\\end{align} $$"
   ]
  },
  {
   "cell_type": "markdown",
   "metadata": {},
   "source": [
    "## Batch size of 2"
   ]
  },
  {
   "cell_type": "markdown",
   "metadata": {},
   "source": [
    "$$ X = \\begin{bmatrix} \\begin{bmatrix} x_{11} & x_{12} & x_{13} & \\ldots & x_{1n} \\end{bmatrix} \\\\ \\begin{bmatrix} x_{21} & x_{22} & x_{23} & \\ldots & x_{2n} \\end{bmatrix} \\end{bmatrix} $$\n",
    "\n",
    "$$ \\beta = \\begin{bmatrix}\\beta_1\\\\\\beta_2\\\\\\beta_3\\\\\\vdots\\\\\\beta_{n}\\end{bmatrix} $$\n",
    "\n",
    "$$ P = p(X, \\beta) = X \\cdot \\beta = \\begin{bmatrix} \\begin{bmatrix} x_{11} * \\beta_1 & x_{12} * \\beta_2 & x_{13} * \\beta_3 & \\ldots & x_{1n} * \\beta_n \\end{bmatrix} \\\\ \\begin{bmatrix} x_{21} * \\beta_1 & x_{22} * \\beta_2 & x_{23} * \\beta_3 & \\ldots & x_{2n} * \\beta_n \\end{bmatrix} \\end{bmatrix} = \\begin{bmatrix} p_1 \\\\ p_2 \\end{bmatrix} $$\n",
    "\n",
    "$$ P = \\begin{bmatrix} \\begin{bmatrix} x_{11} * \\beta_1 & x_{12} * \\beta_2 & x_{13} * \\beta_3 & \\ldots & x_{1n} * \\beta_n \\end{bmatrix} \\\\ \\begin{bmatrix} x_{21} * \\beta_1 & x_{22} * \\beta_2 & x_{23} * \\beta_3 & \\ldots & x_{2n} * \\beta_n \\end{bmatrix} \\end{bmatrix} $$"
   ]
  },
  {
   "cell_type": "markdown",
   "metadata": {},
   "source": [
    "$$ \\frac{\\partial P}{\\partial \\beta_1} = \\begin{bmatrix} x_{11} \\\\ x_{21}\\end{bmatrix} $$"
   ]
  },
  {
   "cell_type": "markdown",
   "metadata": {},
   "source": [
    "$$ Y = \\begin{bmatrix} y_1 \\\\ y_2 \\end{bmatrix} $$\n",
    "\n",
    "$$ L = l(P, Y) = (Y - P) ^ 2 = \\begin{bmatrix} (y_1 - p_1) ^ 2 \\\\ (y_2 - p_2) ^ 2 \\end{bmatrix} $$\n",
    "\n",
    "$$ \\frac{\\partial L}{\\partial P} = \\begin{bmatrix} \\frac{\\partial l}{\\partial p_1} \\\\ \\frac{\\partial l}{\\partial p_2} \\end{bmatrix} = \n",
    "\\begin{bmatrix} (2 * (y_1 - p_1)) * -1 \\\\ (2 * (y_2 - p_2)) * -1 \\\\ \\end{bmatrix} $$"
   ]
  },
  {
   "cell_type": "markdown",
   "metadata": {},
   "source": [
    "$$ L = l(P, Y) = l(p(X, \\beta)) $$"
   ]
  },
  {
   "cell_type": "markdown",
   "metadata": {},
   "source": [
    "$$ f(x) = (a - x)^2 $$\n",
    "\n",
    "$$ f'(x) = 2 * (a-x) * -1 $$"
   ]
  },
  {
   "cell_type": "markdown",
   "metadata": {},
   "source": [
    "$$ \\frac{\\partial P}{\\partial \\beta} = \n",
    "\\begin{bmatrix} \\frac{\\partial P}{\\partial \\beta_1} \\\\ \\frac{\\partial P}{\\partial \\beta_2} \\\\ \\vdots \\\\ \\frac{\\partial P}{\\partial \\beta_n} \\end{bmatrix} =\n",
    "\\begin{bmatrix} \\begin{bmatrix} x_{11} \\\\ x_{21} \\end{bmatrix} \\\\ \\begin{bmatrix} x_{12} \\\\ x_{22} \\end{bmatrix} \\\\ \\begin{bmatrix} x_{13} \\\\ x_{23} \\end{bmatrix} \\\\ \\vdots \\\\ \\begin{bmatrix} x_{1n} \\\\ x_{2n} \\end{bmatrix} \\end{bmatrix} $$"
   ]
  },
  {
   "cell_type": "markdown",
   "metadata": {},
   "source": [
    "$$ \\frac{\\partial P}{\\partial X} = \n",
    "\\begin{bmatrix} \n",
    "\\frac{\\partial P}{\\partial x_{11}} & \n",
    "\\frac{\\partial P}{\\partial x_{12}} & \n",
    "\\frac{\\partial P}{\\partial x_{13}} & \n",
    "\\ldots & \n",
    "\\frac{\\partial P}{\\partial x_{1n}} \\\\ \n",
    "\\frac{\\partial P}{\\partial x_{21}} & \n",
    "\\frac{\\partial P}{\\partial x_{22}} & \n",
    "\\frac{\\partial P}{\\partial x_{23}} & \n",
    "\\ldots & \n",
    "\\frac{\\partial P}{\\partial x_{2n}} \n",
    "\\end{bmatrix} = \n",
    "\\begin{bmatrix} \n",
    "\\beta_1 & \\beta_2 & \\beta_3 & \\ldots & \\beta_n \\\\ \n",
    "\\beta_1 & \\beta_2 & \\beta_3 & \\ldots & \\beta_n\n",
    "\\end{bmatrix}$$"
   ]
  },
  {
   "cell_type": "markdown",
   "metadata": {},
   "source": [
    "$$ \\frac{\\partial l}{\\partial P} = \\begin{bmatrix} (2 * (y_1 - p_1)) * -1 \\\\ (2 * (y_2 - p_2)) * -1 \\\\ \\end{bmatrix} $$"
   ]
  },
  {
   "cell_type": "markdown",
   "metadata": {},
   "source": [
    "$$ \\begin{align} \n",
    "\\frac{\\partial L}{\\partial \\beta} =& \n",
    "\\frac{\\partial P}{\\partial \\beta} * \\frac{\\partial L}{\\partial P} \\\\ =& \\begin{bmatrix} \n",
    "\\begin{bmatrix} x_{11} \\\\ x_{21} \\end{bmatrix} \\\\ \n",
    "\\begin{bmatrix} x_{12} \\\\ x_{22} \\end{bmatrix} \\\\ \n",
    "\\begin{bmatrix} x_{13} \\\\ x_{23} \\end{bmatrix} \\\\ \n",
    "\\vdots \\\\ \n",
    "\\begin{bmatrix} x_{1n} \\\\ x_{2n} \\end{bmatrix}\n",
    "\\end{bmatrix} \n",
    "\\cdot \n",
    "\\begin{bmatrix} (2 * (y_1 - p_1)) * -1 \\\\ (2 * (y_2 - p_2)) * -1 \\end{bmatrix} \\\\ =& \n",
    "\\begin{bmatrix} \n",
    "\\begin{bmatrix} x_{11} \\\\ x_{21} \\end{bmatrix} \\cdot \n",
    "\\begin{bmatrix} (2 * (y_1 - p_1)) * -1 \\\\ (2 * (y_2 - p_2)) * -1 \\end{bmatrix} \\\\ \n",
    "\\begin{bmatrix} x_{12} \\\\ x_{22} \\end{bmatrix} \\cdot \n",
    "\\begin{bmatrix} (2 * (y_1 - p_1)) * -1 \\\\ (2 * (y_2 - p_2)) * -1 \\end{bmatrix} \\\\ \n",
    "\\vdots \\\\\n",
    "\\begin{bmatrix} x_{1n} \\\\ x_{2n} \\end{bmatrix} \\cdot \n",
    "\\begin{bmatrix} (2 * (y_1 - p_1)) * -1 \\\\ (2 * (y_2 - p_2)) * -1 \\end{bmatrix} \n",
    "\\end{bmatrix} \n",
    "\\\\ =& \n",
    "\\begin{bmatrix}\n",
    "x_{11} * (-2 * (y_1 - p_1)) + x_{21} * (-2 * (y_2 - p_2)) \\\\ \n",
    "x_{12} * (-2 * (y_1 - p_1)) + x_{22} * (-2 * (y_2 - p_2)) \\\\ \n",
    "\\vdots \\\\ \n",
    "x_{1n} * (-2 * (y_1 - p_1)) + x_{2n} * (-2 * (y_2 - p_2)) \\end{bmatrix}\n",
    "\\end{align} $$"
   ]
  },
  {
   "cell_type": "markdown",
   "metadata": {},
   "source": [
    "$$ \\begin{align} \n",
    "\\frac{\\partial L}{\\partial X} =& \n",
    "\\frac{\\partial P}{\\partial X} * \\frac{\\partial L}{\\partial P} \\\\ \n",
    "=& \\begin{bmatrix} \n",
    "\\beta_1 & \\beta_2 & \\beta_3 & \\ldots & \\beta_n \\\\ \n",
    "\\beta_1 & \\beta_2 & \\beta_3 & \\ldots & \\beta_n\n",
    "\\end{bmatrix}\n",
    "\\cdot \n",
    "\\begin{bmatrix} (2 * (y_1 - p_1)) * -1 \\\\ (2 * (y_2 - p_2)) * -1 \\end{bmatrix} \\\\ =& \n",
    "\\begin{bmatrix} \n",
    "\\beta_1 * (2 * (y_1 - p_1)) * -1 & \n",
    "\\beta_2 * (2 * (y_1 - p_1)) * -1 & \n",
    "\\beta_3 * (2 * (y_1 - p_1)) * -1 &\n",
    "\\ldots &\n",
    "\\beta_n * (2 * (y_1 - p_1)) * -1 \\\\ \n",
    "\\beta_1 * (2 * (y_2 - p_2)) * -1 & \n",
    "\\beta_2 * (2 * (y_2 - p_2)) * -1 & \n",
    "\\beta_3 * (2 * (y_2 - p_2)) * -1 &\n",
    "\\ldots &\n",
    "\\beta_n * (2 * (y_2 - p_2)) * -1 \\\\\n",
    "\\end{bmatrix} \\\\ =& \n",
    "\\begin{bmatrix} (2 * (y_1 - p_1)) * -1 \\\\ (2 * (y_2 - p_2)) * -1 \\end{bmatrix} * \\beta^T\n",
    "\\end{align} $$"
   ]
  },
  {
   "cell_type": "markdown",
   "metadata": {},
   "source": [
    "$$ \\begin{align} \n",
    "\\frac{\\partial L}{\\partial \\beta} =& \n",
    "\\begin{bmatrix}x_{11} * (-2 * (y_1 - p_1)) + x_{21} * (-2 * (y_2 - p_2)) \\\\ x_{12} * (-2 * (y_1 - p_1)) + x_{22} * (-2 * (y_2 - p_2)) \\\\ \\vdots \\\\ x_{1n} * (-2 * (y_1 - p_1)) + x_{2n} * (-2 * (y_2 - p_2)) \\end{bmatrix} \\\\ =&  \n",
    "\\begin{bmatrix} \n",
    "x_{11} & x_{21} \\\\ \n",
    "x_{12} & x_{22} \\\\ \n",
    "x_{13} & x_{23} \\\\ \n",
    "\\vdots & \\vdots \\\\\n",
    "x_{1n} & x_{2n} \\\\ \n",
    "\\end{bmatrix} * \n",
    "\\begin{bmatrix} (-2 * (y_1 - p_1)) \\\\ (-2 * (y_2 - p_2)) \\end{bmatrix} \\\\ =& \n",
    "X^T * \\begin{bmatrix} (-2 * (y_1 - p_1)) \\\\ (-2 * (y_2 - p_2)) \\end{bmatrix} \\end{align} $$"
   ]
  },
  {
   "cell_type": "markdown",
   "metadata": {},
   "source": [
    "$$ \\frac{\\partial P}{\\partial \\beta} = \\begin{bmatrix} \\begin{bmatrix} x_{11} \\\\ x_{21} \\end{bmatrix} \\\\ \\begin{bmatrix} x_{12} \\\\ x_{22} \\end{bmatrix} \\\\ \\begin{bmatrix} x_{13} \\\\ x_{23} \\end{bmatrix} \\\\ \\vdots \\\\ \\begin{bmatrix} x_{1n} \\\\ x_{2n} \\end{bmatrix} \\end{bmatrix} $$"
   ]
  },
  {
   "cell_type": "markdown",
   "metadata": {},
   "source": [
    "## Logistic regression"
   ]
  },
  {
   "cell_type": "markdown",
   "metadata": {},
   "source": [
    "$$ \\sigma(x) = \\frac{1}{1 + e^{-x}} $$"
   ]
  },
  {
   "cell_type": "markdown",
   "metadata": {},
   "source": [
    "$$ \\begin{align} \n",
    "P(X, \\beta) =& P(\\begin{bmatrix} \n",
    "x_{11} & x_{21} \\\\ \n",
    "x_{12} & x_{22} \\\\ \n",
    "x_{13} & x_{23} \\\\ \n",
    "\\vdots & \\vdots \\\\\n",
    "x_{1n} & x_{2n} \\\\ \n",
    "\\end{bmatrix}, \\begin{bmatrix}\\beta_1\\\\\\beta_2\\\\\\beta_3\\\\\\vdots\\\\\\beta_{n}\\end{bmatrix}) \\\\ =& \n",
    "\\begin{bmatrix} \\sigma(x_{11} * \\beta_1 + x_{12} * \\beta_2 + x_{13} * \\beta_3 + \\ldots + x_{1n} * \\beta_n) \\\\ \\sigma(x_{21} * \\beta_1 + x_{22} * \\beta_2 + x_{23} * \\beta_3 + \\ldots + x_{2n} * \\beta_n) \\end{bmatrix} \\\\ =& \n",
    "\\begin{bmatrix} \\frac{1}{1+e^{x_{11} * \\beta_1 + x_{12} * \\beta_2 + x_{13} * \\beta_3 + \\ldots + x_{1n} * \\beta_n}} \\\\ \\frac{1}{1 + e^{x_{21} * \\beta_1 + x_{22} * \\beta_2 + x_{23} * \\beta_3 + \\ldots + x_{2n} * \\beta_n}} \\end{bmatrix}\n",
    "\\end{align} $$"
   ]
  },
  {
   "cell_type": "markdown",
   "metadata": {},
   "source": [
    "$$ \\begin{bmatrix} \\frac{1}{1+e^{x_{11} * \\beta_1 + x_{12} * \\beta_2 + x_{13} * \\beta_3 + \\ldots + x_{1n} * \\beta_n}} \\\\ \\frac{1}{1 + e^{x_{21} * \\beta_1 + x_{22} * \\beta_2 + x_{23} * \\beta_3 + \\ldots + x_{2n} * \\beta_n}} \\end{bmatrix} = \\begin{bmatrix} p_1 \\\\ p_2 \\end{bmatrix} $$"
   ]
  },
  {
   "cell_type": "markdown",
   "metadata": {},
   "source": [
    "\n",
    "$$ CE(x, y) = \\sum_{i}{(- y_i * log(p_i) - (1 - y_i) * log(1-p_i))} $$\n",
    "\n",
    "$$ \\begin{align} &\\sum_{i}{(- 0 * log(p_i) - (1 - 0) * log(1-p_i))} \\\\\n",
    "=  &\\sum_{i}{- log(1-p_i))} \\end{align}$$"
   ]
  },
  {
   "cell_type": "markdown",
   "metadata": {},
   "source": [
    "$$ S(\\begin{bmatrix} x_1 \\\\ x_2 \\\\ x_3 \\\\ \\vdots \\\\ x_n \\end{bmatrix})  = \\begin{bmatrix} \\frac{e^{x_1}}{e^{x_1} + e^{x_2} + e^{x_3} + \\ldots + e^{x_n}} \\\\ \n",
    "\\frac{e^{x_2}}{e^{x_1} + e^{x_2} + e^{x_3} + \\ldots + e^{x_n}} \\\\\n",
    "\\frac{e^{x_3}}{e^{x_1} + e^{x_2} + e^{x_3} + \\ldots + e^{x_n}} \\\\\n",
    "\\ldots \\\\\n",
    "\\frac{e^{x_n}}{e^{x_1} + e^{x_2} + e^{x_3} + \\ldots + e^{x_n}}\n",
    "\\end{bmatrix} $$"
   ]
  },
  {
   "cell_type": "markdown",
   "metadata": {},
   "source": [
    "$$ S(\\begin{bmatrix} p_1 \\\\ p_2 \\end{bmatrix}) = \\begin{bmatrix} \\frac{e^{p_1}}{e^{p_1} + e^{p_2}} \\\\\n",
    "\\frac{e^{p_2}}{e^{p_1} + e^{p_2}} \\\\\n",
    "\\end{bmatrix} $$"
   ]
  },
  {
   "cell_type": "markdown",
   "metadata": {},
   "source": [
    "$$ \\begin{bmatrix} 0 \\\\ \\vdots \\\\ 0 \\\\ 1 \\\\ 0 \\\\ \\vdots \\\\ 0 \\end{bmatrix} $$"
   ]
  },
  {
   "cell_type": "markdown",
   "metadata": {},
   "source": [
    "## Derivation of Softmax Cross Entropy derivative"
   ]
  },
  {
   "cell_type": "markdown",
   "metadata": {},
   "source": [
    "$$ C(p, y) = - y * \\text{log}(p) - (1 - y) * \\text{log}(1-p) $$"
   ]
  },
  {
   "cell_type": "markdown",
   "metadata": {},
   "source": [
    "$$\n",
    "C(p,y)=\n",
    "\\begin{cases}\n",
    "-log(1-p) & \\text{if }  y = 0\\\\\n",
    "-log(p) & \\text{if }  y = 1\n",
    "\\end{cases}\n",
    "$$"
   ]
  },
  {
   "cell_type": "markdown",
   "metadata": {},
   "source": [
    "$$ SC(p_1, p_2, y_1) = - y_1 * log(\\frac{e^{p_1}}{e^{p_1} + e^{p_2}}) - (1 - y_1) * log(1-\\frac{e^{p_1}}{e^{p_1} + e^{p_2}}) $$"
   ]
  },
  {
   "cell_type": "markdown",
   "metadata": {},
   "source": [
    "Structure:\n",
    "\n",
    "$ y_1 = a $, $e^{x_2} = b$\n",
    "\n",
    "$$ SC(x_1) = - a * log(\\frac{e^{x_1}}{e^{x_1} + b}) - (1 - a) * log(1-\\frac{e^{x_1}}{e^{x_1} + b}) $$\n",
    "\n",
    "**Quotient rule:**\n",
    "\n",
    "$$ f(x) = \\frac{g(x)}{h(x)} $$ \n",
    "\n",
    "$$ f'(x) = \\frac{g'(x) * h(x) - g(x) * h'(x)}{(h(x))^2} $$"
   ]
  },
  {
   "cell_type": "markdown",
   "metadata": {},
   "source": [
    "If\n",
    "\n",
    "$$ f(x) = \\frac{e^x}{e^x + b} $$ \n",
    "\n",
    "$$ \\begin{align} f'(x) =& \\frac{e^x * (e^x + b) - (e^x * e^x)}{(e^x + b)^2} \\\\ \n",
    "=& \\frac{e^x * (e^x + b - e^ x)}{(e^x + b)^2} \\\\\n",
    "=& \\frac{e^x * b}{(e^x + b)^2}\\end{align} $$"
   ]
  },
  {
   "cell_type": "markdown",
   "metadata": {},
   "source": [
    "And if:\n",
    "\n",
    "$$ g(x) = - a * log(f(x)) - (1 - a) * log(1-f(x)) $$\n",
    "\n",
    "then:\n",
    "\n",
    "$$ g'(x) = - a * \\frac{f'(x)}{f(x)} - (1 - a) * \\frac{-1 * f'(x)}{1-f(x)} $$\n",
    "\n",
    "First, we'll compute $\\frac{f'(x)}{f(x)}$:\n",
    "\n",
    "$$ \\begin{align} \n",
    "\\frac{f'(x)}{f(x)} =& \\frac{\\frac{e^x * b}{(e^x + b)^2}}{\\frac{e^x}{e^x + b}} \\\\\\\\\n",
    "=& \\frac{-e^x * b}{(e^x + b)^2} * \\frac{e^x + b}{e^x}\n",
    " \\\\\n",
    "=& \\frac{b}{e^x + b} \\end{align} $$"
   ]
  },
  {
   "cell_type": "markdown",
   "metadata": {},
   "source": [
    "Now, in this next part, we'll use the fact that:\n",
    "\n",
    "$$ \\frac{b}{e^x + b} = 1 - \\frac{e^x}{e^x + b} $$"
   ]
  },
  {
   "cell_type": "markdown",
   "metadata": {},
   "source": [
    "$ \\begin{align} \n",
    "\\frac{-1 * f'(x)}{1 - f(x)} =& \\frac{-1 * \\frac{e^x * b}{(e^x + b)^2}}{1 - \\frac{e^x}{e^x + b}} \\\\\n",
    "=& \\frac{\\frac{-e^x * b}{(e^x + b)^2}}{\\frac{b}{e^x + b}} \\\\\n",
    "=& \\frac{-e^x * b}{(e^x + b)^2} * \\frac{e^x + b}{b}\n",
    " \\\\\n",
    "=& \\frac{-e^x}{e^x + b} \\end{align}$"
   ]
  },
  {
   "cell_type": "markdown",
   "metadata": {},
   "source": [
    "Finally, putting these pieces together:\n",
    "\n",
    "$$ \\begin{align} SC'(x) =& - a * \\frac{f'(x)}{f(x)} - (1 - a) * \\frac{-1 * f'(x)}{1-f(x)} \\\\ \n",
    "=& -a * \\frac{b}{e^x + b} - (1 - a) * \\frac{-e^x}{e^x + b} \\\\ \n",
    "=& -a * \\frac{b}{e^x + b} + \\frac{e^x}{e^x + b} - a * \\frac{-e^x}{e^x + b} \\\\ \n",
    "=& -a * (1 - \\frac{e^x}{e^x + b}) + \\frac{e^x}{e^x + b} - a * \\frac{-e^x}{e^x + b} \\\\\n",
    "=& -a + a * \\frac{e^x}{e^x + b} + \\frac{e^x}{e^x + b} - a * \\frac{-e^x}{e^x + b} \\\\\n",
    "=& -a + \\frac{e^x}{e^x + b} \\\\\n",
    "\\end{align} \\\\ \n",
    "$$"
   ]
  },
  {
   "cell_type": "markdown",
   "metadata": {},
   "source": [
    "That's right, the derivative to be sent backward from the softmax layer is simply:\n",
    "\n",
    "$$ S - Y = s(\\begin{bmatrix} p_1 \\\\ p_2 \\end{bmatrix}) - \\begin{bmatrix} y_1 \\\\ y_2 \\end{bmatrix} = \\begin{bmatrix} \\frac{e^{p_1}}{e^{p_1} + e^{p_2}} - y_1 \\\\ \\frac{e^{p_2}}{e^{p_1} + e^{p_2}} - y_2 \\end{bmatrix} $$\n",
    "\n",
    "This makes sense:\n",
    "\n",
    "* The softmax output will always be between 0 and 1.\n",
    "* If $y_i$ is 0, then $ s(x_1) - y_1 $ will be a positive number: because indeed, if we increase the value of $x_1$, the loss will increase. Conversely if $y_i$ is one.\n",
    "* Note that this loss function only makes sense because $ s(x_i) $ is always between 0 and 1. \n",
    "\n",
    "This, by the way, is why TensorFlow has a function called `softmax_cross_entropy_with_logits`!"
   ]
  },
  {
   "cell_type": "markdown",
   "metadata": {},
   "source": [
    "### Logistic normalization"
   ]
  },
  {
   "cell_type": "markdown",
   "metadata": {},
   "source": [
    "$$ \\begin{bmatrix} p_1 \\\\ p_2 \\\\ p_3 \\\\ \\vdots \\\\ p_n \\end{bmatrix} \\Rightarrow \\begin{bmatrix} p_1 & 1-p_1 \\\\ p_2 & 1-p_2 \\\\ p_3 & 1-p_3 \\\\ \\vdots & \\vdots \\\\ p_n & 1-p_n \\end{bmatrix} $$ "
   ]
  },
  {
   "cell_type": "markdown",
   "metadata": {
    "slideshow": {
     "slide_type": "subslide"
    }
   },
   "source": [
    "Opposite:"
   ]
  },
  {
   "cell_type": "markdown",
   "metadata": {},
   "source": [
    "$$ \\begin{bmatrix} p_1 & 1-p_1 \\\\ p_2 & 1-p_2 \\\\ p_3 & 1-p_3 \\\\ \\vdots & \\vdots \\\\ p_n & 1-p_n \\end{bmatrix} \\Rightarrow \\begin{bmatrix} p_1 \\\\ p_2 \\\\ p_3 \\\\ \\vdots \\\\ p_n \\end{bmatrix} $$ "
   ]
  },
  {
   "cell_type": "code",
   "execution_count": null,
   "metadata": {},
   "outputs": [],
   "source": []
  }
 ],
 "metadata": {
  "kernelspec": {
   "display_name": "Python 3",
   "language": "python",
   "name": "python3"
  },
  "language_info": {
   "codemirror_mode": {
    "name": "ipython",
    "version": 3
   },
   "file_extension": ".py",
   "mimetype": "text/x-python",
   "name": "python",
   "nbconvert_exporter": "python",
   "pygments_lexer": "ipython3",
   "version": "3.6.6"
  }
 },
 "nbformat": 4,
 "nbformat_minor": 2
}
