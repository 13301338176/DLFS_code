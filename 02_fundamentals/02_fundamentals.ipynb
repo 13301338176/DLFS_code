{
 "cells": [
  {
   "cell_type": "code",
   "execution_count": 108,
   "metadata": {},
   "outputs": [],
   "source": [
    "import torch\n",
    "import numpy as np\n",
    "from torch import Tensor\n",
    "from numpy import ndarray as array\n",
    "from helper import to_2d, tensor_size\n",
    "\n",
    "from typing import Callable, Dict, Tuple, List, NamedTuple"
   ]
  },
  {
   "cell_type": "markdown",
   "metadata": {},
   "source": [
    "# Boston data"
   ]
  },
  {
   "cell_type": "code",
   "execution_count": 109,
   "metadata": {},
   "outputs": [],
   "source": [
    "from sklearn.datasets import load_boston"
   ]
  },
  {
   "cell_type": "code",
   "execution_count": 110,
   "metadata": {},
   "outputs": [],
   "source": [
    "boston = load_boston()"
   ]
  },
  {
   "cell_type": "code",
   "execution_count": 111,
   "metadata": {},
   "outputs": [],
   "source": [
    "data = boston.data\n",
    "target = boston.target\n",
    "features = boston.feature_names"
   ]
  },
  {
   "cell_type": "markdown",
   "metadata": {},
   "source": [
    "## SciKit Learn Linear Regression"
   ]
  },
  {
   "cell_type": "markdown",
   "metadata": {},
   "source": [
    "### Data prep"
   ]
  },
  {
   "cell_type": "code",
   "execution_count": 112,
   "metadata": {},
   "outputs": [],
   "source": [
    "from sklearn.preprocessing import StandardScaler\n",
    "s = StandardScaler()\n",
    "data = s.fit_transform(data)"
   ]
  },
  {
   "cell_type": "code",
   "execution_count": 113,
   "metadata": {},
   "outputs": [],
   "source": [
    "from sklearn.model_selection import train_test_split\n",
    "X_train, X_test, y_train, y_test = train_test_split(data, target, test_size=0.3, random_state=80718)"
   ]
  },
  {
   "cell_type": "code",
   "execution_count": 114,
   "metadata": {},
   "outputs": [
    {
     "data": {
      "text/plain": [
       "0.7197224944944625"
      ]
     },
     "execution_count": 114,
     "metadata": {},
     "output_type": "execute_result"
    }
   ],
   "source": [
    "from sklearn.linear_model import LinearRegression\n",
    "lr = LinearRegression(fit_intercept=True)\n",
    "lr.fit(X_train, y_train)\n",
    "lr.score(X_test, y_test)"
   ]
  },
  {
   "cell_type": "code",
   "execution_count": 115,
   "metadata": {
    "scrolled": true
   },
   "outputs": [
    {
     "data": {
      "text/plain": [
       "array([-1.01,  0.71,  0.28,  0.71, -2.21,  2.37,  0.72, -2.66,  2.63,\n",
       "       -1.82, -2.33,  0.86, -4.2 ])"
      ]
     },
     "execution_count": 115,
     "metadata": {},
     "output_type": "execute_result"
    }
   ],
   "source": [
    "import numpy as np\n",
    "np.round(lr.coef_, 2)"
   ]
  },
  {
   "cell_type": "markdown",
   "metadata": {},
   "source": [
    "### Manual linear regression"
   ]
  },
  {
   "cell_type": "code",
   "execution_count": 137,
   "metadata": {},
   "outputs": [],
   "source": [
    "X_train, X_test, y_train, y_test = Tensor(X_train), Tensor(X_test), Tensor(y_train), Tensor(y_test)"
   ]
  },
  {
   "cell_type": "code",
   "execution_count": 138,
   "metadata": {},
   "outputs": [],
   "source": [
    "def permute_data(X, y):\n",
    "    perm = torch.randperm(X.shape[0])\n",
    "    return X[perm], y[perm]"
   ]
  },
  {
   "cell_type": "code",
   "execution_count": 139,
   "metadata": {},
   "outputs": [],
   "source": [
    "def loss_gradients(forward_info) -> Tensor:\n",
    "    \n",
    "    dLdP = -(forward_info['y'] - forward_info['P'])\n",
    "    \n",
    "    dPdN = torch.ones_like(forward_info['N'])\n",
    "    \n",
    "    dLdN = dLdP * dPdN\n",
    "    \n",
    "    dNdW = forward_info['X'].transpose(0, 1)\n",
    "\n",
    "    dLdW = torch.mm(dNdW, dLdN)\n",
    "    \n",
    "    dPdB = torch.ones_like(forward_info['B'])\n",
    "    \n",
    "    dLdB = dLdP * dPdB\n",
    "    \n",
    "    return dLdW, dLdB"
   ]
  },
  {
   "cell_type": "code",
   "execution_count": 140,
   "metadata": {},
   "outputs": [],
   "source": [
    "from typing import Iterator\n",
    "Batch = Tuple[Tensor, Tensor]\n",
    "\n",
    "def generate_batch(X: Tensor, \n",
    "                   y: Tensor,\n",
    "                   start: int = 0,\n",
    "                   batch_size: int = 10) -> Iterator[Batch]:\n",
    "    \n",
    "    assert (X.dim() == 2) and (y.dim() == 2), \\\n",
    "    \"X and Y must be 2 dimensional\"\n",
    "\n",
    "    if start+batch_size > X.shape[0]:\n",
    "        batch_size = X.shape[0] - start\n",
    "    \n",
    "    X_batch, y_batch = X[start:start+batch_size], y[start:start+batch_size]\n",
    "    \n",
    "    return X_batch, y_batch"
   ]
  },
  {
   "cell_type": "code",
   "execution_count": 141,
   "metadata": {},
   "outputs": [],
   "source": [
    "def forward_loss(X: Tensor,\n",
    "                 y: Tensor,\n",
    "                 W: Tensor,\n",
    "                 B: Tensor) -> Tuple[Dict[str, Tensor], float]:\n",
    "\n",
    "    # For the matrix multiplication to work,\n",
    "    assert X.shape[1] == W.shape[0], \\\n",
    "    \"Dimensions of betas and feature size do not match\"\n",
    "\n",
    "    N = torch.mm(X, W)\n",
    "\n",
    "    P = torch.add(N, B.item())\n",
    "\n",
    "    loss = torch.sum(torch.pow(y - P, 2)).item()\n",
    "\n",
    "    forward_info: Dict[str, Tensor] = {}\n",
    "    forward_info['X'] = X\n",
    "    forward_info['W'] = W\n",
    "    forward_info['B'] = B\n",
    "    forward_info['N'] = N\n",
    "    forward_info['P'] = P\n",
    "    forward_info['y'] = y\n",
    "\n",
    "    return forward_info, loss"
   ]
  },
  {
   "cell_type": "code",
   "execution_count": 142,
   "metadata": {},
   "outputs": [],
   "source": [
    "def train(X: Tensor, \n",
    "          y: Tensor, \n",
    "          n_iter: int = 1000,\n",
    "          learning_rate: float = 0.01,\n",
    "          batch_size: int = 100,\n",
    "          return_losses: bool = False, \n",
    "          return_weights: bool = False, \n",
    "          seed: int = 1) -> None:\n",
    "\n",
    "    if seed:\n",
    "        torch.manual_seed(seed)\n",
    "    y = to_2d(y, \"col\")\n",
    "    start = 0\n",
    "\n",
    "    # Initialize weights\n",
    "    W = torch.empty(X.shape[1], 1).uniform_(-1, 1)\n",
    "    B = torch.empty(1, 1).uniform_(-1, 1)\n",
    "\n",
    "    # Permute data\n",
    "    X, y = permute_data(X, y)\n",
    "    \n",
    "    if return_losses:\n",
    "        losses = []\n",
    "\n",
    "    for i in range(n_iter):\n",
    "\n",
    "        if start >= X.shape[0]:\n",
    "            X, y = permute_data(X, y)\n",
    "            start = 0\n",
    "        \n",
    "        X_batch, y_batch = generate_batch(X, y, start, batch_size)\n",
    "\n",
    "        start += batch_size\n",
    "    \n",
    "        forward_info, loss = forward_loss(X_batch, y_batch, W, B)\n",
    "\n",
    "        if return_losses:\n",
    "            losses.append(loss)\n",
    "\n",
    "        dLdW, dLdB = loss_gradients(forward_info)\n",
    "        W -= learning_rate * dLdW\n",
    "        B -= learning_rate * torch.sum(dLdB)\n",
    "    \n",
    "    if return_weights:\n",
    "        weights: Dict[str, Tensor] = {}\n",
    "        weights['W'] = W\n",
    "        weights['B'] = B\n",
    "        return losses, weights\n",
    "    \n",
    "    return None"
   ]
  },
  {
   "cell_type": "code",
   "execution_count": 143,
   "metadata": {},
   "outputs": [],
   "source": [
    "train_info = train(X_train, y_train, \n",
    "                   learning_rate = 0.001,\n",
    "                   batch_size=19, \n",
    "                   return_losses=True, \n",
    "                   return_weights=True, \n",
    "                   seed=80718)\n",
    "losses = train_info[0]\n",
    "weights = train_info[1]"
   ]
  },
  {
   "cell_type": "code",
   "execution_count": 144,
   "metadata": {},
   "outputs": [],
   "source": [
    "def predict(X: Tensor, \n",
    "            y: Tensor, \n",
    "            weights: Dict[str, Tensor]):\n",
    "    \n",
    "    N = torch.mm(X, weights['W'])\n",
    "\n",
    "    return torch.add(N, weights['B'].item())"
   ]
  },
  {
   "cell_type": "code",
   "execution_count": 145,
   "metadata": {},
   "outputs": [],
   "source": [
    "preds = predict(X_test, y_test, weights)"
   ]
  },
  {
   "cell_type": "code",
   "execution_count": 146,
   "metadata": {},
   "outputs": [
    {
     "data": {
      "text/plain": [
       "0.580529526332294"
      ]
     },
     "execution_count": 146,
     "metadata": {},
     "output_type": "execute_result"
    }
   ],
   "source": [
    "from sklearn.metrics import r2_score\n",
    "r2_score(preds, y_test)"
   ]
  },
  {
   "cell_type": "markdown",
   "metadata": {},
   "source": [
    "### Tuning learning rate"
   ]
  },
  {
   "cell_type": "code",
   "execution_count": 150,
   "metadata": {},
   "outputs": [],
   "source": [
    "def r2_score_2(learning_rate: float = 0.01, \n",
    "             n_iter: int = 1000) -> float:\n",
    "    train_info = train(X_train, y_train, \n",
    "                       learning_rate=learning_rate,\n",
    "                       batch_size=23, \n",
    "                       n_iter=n_iter,\n",
    "                       return_losses=True, \n",
    "                       return_weights=True, \n",
    "                       seed=80718)\n",
    "\n",
    "    losses = train_info[0]\n",
    "    weights = train_info[1]\n",
    "\n",
    "    preds = predict(X_test, y_test, weights)\n",
    "    \n",
    "    return r2_score(preds, y_test)"
   ]
  },
  {
   "cell_type": "code",
   "execution_count": 151,
   "metadata": {},
   "outputs": [],
   "source": [
    "lrs = np.geomspace(0.01, 0.00001, 50)"
   ]
  },
  {
   "cell_type": "code",
   "execution_count": 152,
   "metadata": {},
   "outputs": [],
   "source": [
    "r2s = [r2_score_2(float(lr), 10000) for lr in lrs]"
   ]
  },
  {
   "cell_type": "code",
   "execution_count": 153,
   "metadata": {
    "scrolled": true
   },
   "outputs": [
    {
     "data": {
      "image/png": "[encoded data removed]",
      "text/plain": [
       "<Figure size 432x288 with 1 Axes>"
      ]
     },
     "metadata": {},
     "output_type": "display_data"
    }
   ],
   "source": [
    "import matplotlib.pyplot as plt\n",
    "%matplotlib inline\n",
    "\n",
    "plt.xlim(lrs[-1], lrs[0])\n",
    "plt.semilogx(lrs, r2s);"
   ]
  },
  {
   "cell_type": "markdown",
   "metadata": {},
   "source": [
    "### Analyzing best model"
   ]
  },
  {
   "cell_type": "code",
   "execution_count": 157,
   "metadata": {},
   "outputs": [],
   "source": [
    "train_info = train(X_train, y_train, \n",
    "                   learning_rate=0.0002,\n",
    "                   batch_size=23, \n",
    "                   n_iter=10000,\n",
    "                   return_losses=True, \n",
    "                   return_weights=True, \n",
    "                   seed=80718)\n",
    "\n",
    "losses = train_info[0]\n",
    "weights = train_info[1]\n",
    "\n",
    "preds = predict(X_test, y_test, weights)"
   ]
  },
  {
   "cell_type": "code",
   "execution_count": 158,
   "metadata": {},
   "outputs": [
    {
     "data": {
      "text/plain": [
       "tensor([[-1.0014],\n",
       "        [ 0.6908],\n",
       "        [ 0.2472],\n",
       "        [ 0.7149],\n",
       "        [-2.2061],\n",
       "        [ 2.3760],\n",
       "        [ 0.7110],\n",
       "        [-2.6672],\n",
       "        [ 2.5395],\n",
       "        [-1.7179],\n",
       "        [-2.3258],\n",
       "        [ 0.8528],\n",
       "        [-4.1907]])"
      ]
     },
     "execution_count": 158,
     "metadata": {},
     "output_type": "execute_result"
    }
   ],
   "source": [
    "weights['W']"
   ]
  },
  {
   "cell_type": "code",
   "execution_count": 159,
   "metadata": {},
   "outputs": [
    {
     "data": {
      "text/plain": [
       "array([-1.00677299,  0.70553407,  0.27897821,  0.70964421, -2.21195566,\n",
       "        2.37317966,  0.7164624 , -2.66326995,  2.62957833, -1.81593133,\n",
       "       -2.32931902,  0.85741777, -4.19602686])"
      ]
     },
     "execution_count": 159,
     "metadata": {},
     "output_type": "execute_result"
    }
   ],
   "source": [
    "lr.coef_"
   ]
  },
  {
   "cell_type": "code",
   "execution_count": 160,
   "metadata": {},
   "outputs": [
    {
     "data": {
      "text/plain": [
       "tensor([[22.6193]])"
      ]
     },
     "execution_count": 160,
     "metadata": {},
     "output_type": "execute_result"
    }
   ],
   "source": [
    "weights['B']"
   ]
  },
  {
   "cell_type": "code",
   "execution_count": 161,
   "metadata": {},
   "outputs": [
    {
     "data": {
      "text/plain": [
       "22.61845081746217"
      ]
     },
     "execution_count": 161,
     "metadata": {},
     "output_type": "execute_result"
    }
   ],
   "source": [
    "lr.intercept_"
   ]
  },
  {
   "cell_type": "markdown",
   "metadata": {},
   "source": [
    "## Plotting loss"
   ]
  },
  {
   "cell_type": "code",
   "execution_count": 162,
   "metadata": {},
   "outputs": [
    {
     "data": {
      "image/png": "[encoded data removed]",
      "text/plain": [
       "<Figure size 432x288 with 1 Axes>"
      ]
     },
     "metadata": {},
     "output_type": "display_data"
    }
   ],
   "source": [
    "import matplotlib.pyplot as plt\n",
    "%matplotlib inline\n",
    "plt.semilogy(list(range(10000)), losses); "
   ]
  },
  {
   "cell_type": "markdown",
   "metadata": {},
   "source": [
    "# Logistic regression"
   ]
  },
  {
   "cell_type": "markdown",
   "metadata": {},
   "source": [
    "### Helpers"
   ]
  },
  {
   "cell_type": "code",
   "execution_count": 163,
   "metadata": {},
   "outputs": [],
   "source": [
    "def sigmoid(x: Tensor, \n",
    "            deriv: bool=False) -> Tensor:\n",
    "    if deriv:\n",
    "        return sigmoid(x) * (1 - sigmoid(x))\n",
    "    else:\n",
    "        return 1 / (1 + torch.exp(-1.0 * x))"
   ]
  },
  {
   "cell_type": "code",
   "execution_count": 164,
   "metadata": {},
   "outputs": [],
   "source": [
    "def softmax(x: Tensor) -> Tensor:\n",
    "\n",
    "    assert x.dim() == 2, \\\n",
    "    \"Expect Tensor with shape (batch_size, num_classes), instead \" + \\\n",
    "    \"x has shape {0}\".format(x.shape)\n",
    "    \n",
    "    def _softmax_row(row: Tensor) -> Tensor:\n",
    "        \n",
    "        assert row.dim() == 1, \\\n",
    "        \"'row' should indeed be a row, instead it has shape\" \\\n",
    "        .format(row.shape)\n",
    "        \n",
    "        exp_obs = torch.exp(row)\n",
    "        sum_exp_obs = exp_obs.sum().item()\n",
    "        softmax_obs = exp_obs / sum_exp_obs\n",
    "        \n",
    "        return softmax_obs\n",
    "\n",
    "    output_rows = []\n",
    "    for obs in range(x.shape[0]):\n",
    "        output_row = to_2d(_softmax_row(x[obs]), \"row\")\n",
    "        output_rows.append(output_row)\n",
    "        \n",
    "    return torch.cat(output_rows)\n",
    "    "
   ]
  },
  {
   "cell_type": "code",
   "execution_count": 165,
   "metadata": {},
   "outputs": [
    {
     "data": {
      "text/plain": [
       "tensor([[0.8647, 0.1170, 0.0158, 0.0021, 0.0003]])"
      ]
     },
     "execution_count": 165,
     "metadata": {},
     "output_type": "execute_result"
    }
   ],
   "source": [
    "softmax(Tensor([[10, 8, 6, 4, 2]]))"
   ]
  },
  {
   "cell_type": "markdown",
   "metadata": {},
   "source": [
    "## Sklearn logistic regression"
   ]
  },
  {
   "cell_type": "code",
   "execution_count": 250,
   "metadata": {},
   "outputs": [],
   "source": [
    "from sklearn.datasets import load_breast_cancer\n",
    "breast_cancer = load_breast_cancer()\n",
    "data = breast_cancer.data\n",
    "target = breast_cancer.target\n",
    "features = breast_cancer.feature_names"
   ]
  },
  {
   "cell_type": "markdown",
   "metadata": {},
   "source": [
    "### Data prep"
   ]
  },
  {
   "cell_type": "code",
   "execution_count": 251,
   "metadata": {},
   "outputs": [],
   "source": [
    "s = StandardScaler()\n",
    "data = s.fit_transform(data)"
   ]
  },
  {
   "cell_type": "code",
   "execution_count": 252,
   "metadata": {},
   "outputs": [],
   "source": [
    "from sklearn.model_selection import train_test_split\n",
    "X_train, X_test, y_train, y_test = train_test_split(data, target, \n",
    "                                                    test_size=0.3, \n",
    "                                                    random_state=80718,\n",
    "                                                    stratify=target)"
   ]
  },
  {
   "cell_type": "code",
   "execution_count": 253,
   "metadata": {},
   "outputs": [],
   "source": [
    "from sklearn.linear_model import LogisticRegression\n",
    "from sklearn.metrics import accuracy_score\n",
    "from sklearn.metrics import f1_score"
   ]
  },
  {
   "cell_type": "code",
   "execution_count": 254,
   "metadata": {},
   "outputs": [
    {
     "data": {
      "text/plain": [
       "0.9766081871345029"
      ]
     },
     "execution_count": 254,
     "metadata": {},
     "output_type": "execute_result"
    }
   ],
   "source": [
    "logr = LogisticRegression(C=10e9)\n",
    "logr.fit(X_train, y_train)\n",
    "logr.score(X_test, y_test)"
   ]
  },
  {
   "cell_type": "markdown",
   "metadata": {},
   "source": [
    "### Hand rolled logistic regression"
   ]
  },
  {
   "cell_type": "markdown",
   "metadata": {},
   "source": [
    "#### Data preprocessing"
   ]
  },
  {
   "cell_type": "code",
   "execution_count": 255,
   "metadata": {},
   "outputs": [],
   "source": [
    "def predictions_to_2d(predictions: Tensor) -> Tensor:\n",
    "    \n",
    "    assert predictions.shape[1] == 1, \\\n",
    "    \"Expected a column for predictions, got shape: {}\".format(predictions.shape)\n",
    "    \n",
    "    inverse_predictions = 1 - predictions\n",
    "    \n",
    "    return torch.cat([predictions, inverse_predictions], dim=1)"
   ]
  },
  {
   "cell_type": "code",
   "execution_count": 256,
   "metadata": {},
   "outputs": [],
   "source": [
    "X_train, X_test, y_train, y_test = Tensor(X_train), Tensor(X_test), Tensor(y_train), Tensor(y_test)"
   ]
  },
  {
   "cell_type": "code",
   "execution_count": 257,
   "metadata": {},
   "outputs": [],
   "source": [
    "y_train, y_test = predictions_to_2d(to_2d(y_train, \"col\")), predictions_to_2d(to_2d(y_test, \"col\"))"
   ]
  },
  {
   "cell_type": "markdown",
   "metadata": {},
   "source": [
    "### Modeling functions"
   ]
  },
  {
   "cell_type": "code",
   "execution_count": 258,
   "metadata": {},
   "outputs": [],
   "source": [
    "def forward_logistic(X: Tensor,\n",
    "                     y: Tensor,\n",
    "                     W: Tensor, \n",
    "                     B: Tensor) -> Tensor:\n",
    "    \n",
    "    # For the matrix multiplication to work, \n",
    "#     assert observations.shape[1] == betas.shape[0], \\\n",
    "#     \"Dimensions of betas and feature size do not match\"\n",
    "    \n",
    "    N = torch.mm(X, W)\n",
    "    \n",
    "    O = torch.add(N, B.item())\n",
    "    \n",
    "    P = sigmoid(O)\n",
    "\n",
    "    P = predictions_to_2d(P)\n",
    "    \n",
    "    L = cross_entropy(softmax(P), y)\n",
    "    \n",
    "    forward_info: Dict[str, Tensor] = {}\n",
    "    forward_info['X'] = X\n",
    "    forward_info['W'] = W\n",
    "    forward_info['B'] = B\n",
    "    forward_info['N'] = N\n",
    "    forward_info['O'] = O\n",
    "    forward_info['P'] = P  \n",
    "    forward_info['y'] = y \n",
    "    \n",
    "    return forward_info, L.sum().item() / X.shape[0]"
   ]
  },
  {
   "cell_type": "code",
   "execution_count": 259,
   "metadata": {},
   "outputs": [],
   "source": [
    "def cross_entropy(predictions: Tensor, \n",
    "                  actual: Tensor) -> Tensor:\n",
    "    \n",
    "    assert predictions.shape == actual.shape, \\\n",
    "    \"Prediction and actual must have same shape\"\n",
    "    \n",
    "    return -1.0 * actual * torch.log(predictions) - (1.0 - actual) * torch.log(1 - predictions)"
   ]
  },
  {
   "cell_type": "code",
   "execution_count": 260,
   "metadata": {},
   "outputs": [],
   "source": [
    "def loss_bce_softmax_deriv(predictions: Tensor, \n",
    "                           actual: Tensor) -> Tensor:\n",
    "\n",
    "    assert predictions.shape == actual.shape, \\\n",
    "    \"Prediction and actual must have same shape\"\n",
    "\n",
    "    return to_2d((predictions - actual)[:, 0], \"col\")"
   ]
  },
  {
   "cell_type": "code",
   "execution_count": 261,
   "metadata": {},
   "outputs": [],
   "source": [
    "def loss_gradients_logistic(forward_info: Dict[str, Tensor]) -> Tensor:\n",
    "\n",
    "#     import pdb; pdb.set_trace()\n",
    "    dLdP = loss_bce_softmax_deriv(forward_info['P'], \n",
    "                                  forward_info['y'])\n",
    "    \n",
    "    dPdO = sigmoid(forward_info['O'], deriv=True)\n",
    "    \n",
    "    dLdO = dLdP * dPdO\n",
    "    \n",
    "    dOdB = torch.ones_like(forward_info['B'])\n",
    "    \n",
    "    dLdB = dLdO * dOdB\n",
    "    \n",
    "    dOdN = torch.ones_like(forward_info['N'])\n",
    "    \n",
    "    dLdN = dLdO * dOdN\n",
    "    \n",
    "    dNdW = forward_info['X'].transpose(0, 1)\n",
    "\n",
    "    dLdW = dNdW.mm(dLdN)\n",
    "    \n",
    "    return dLdW, dLdB"
   ]
  },
  {
   "cell_type": "code",
   "execution_count": 262,
   "metadata": {},
   "outputs": [],
   "source": [
    "def train(X: Tensor, \n",
    "          y: Tensor, \n",
    "          n_iter: int = 1000,\n",
    "          learning_rate: float = 0.01,\n",
    "          batch_size: int = 100,\n",
    "          return_losses: bool = False, \n",
    "          return_weights: bool = False, \n",
    "          seed: int = 1) -> None:\n",
    "\n",
    "    if seed:\n",
    "        torch.manual_seed(seed)\n",
    "    start = 0\n",
    "\n",
    "    # Initialize weights\n",
    "    W = torch.empty(X.shape[1], 1).uniform_(-1, 1)\n",
    "    B = torch.empty(1, 1).uniform_(-1, 1)\n",
    "\n",
    "    # Permute data\n",
    "    X, y = permute_data(X, y)\n",
    "    \n",
    "    if return_losses:\n",
    "        losses = []\n",
    "\n",
    "    for i in range(n_iter):\n",
    "\n",
    "        if start >= X.shape[0]:\n",
    "            X, y = permute_data(X, y)\n",
    "            start = 0\n",
    "        \n",
    "        X_batch, y_batch = generate_batch(X, y, start, batch_size)\n",
    "\n",
    "        start += batch_size\n",
    "    \n",
    "        forward_info, loss = forward_logistic(X_batch, y_batch, W, B)\n",
    "\n",
    "        if return_losses:\n",
    "            losses.append(loss)\n",
    "\n",
    "        dLdW, dLdB = loss_gradients_logistic(forward_info)\n",
    "        W -= learning_rate * dLdW\n",
    "        B -= learning_rate * torch.sum(dLdB)\n",
    "    \n",
    "    if return_weights:\n",
    "        weights: Dict[str, Tensor] = {}\n",
    "        weights['W'] = W\n",
    "        weights['B'] = B\n",
    "        return losses, weights\n",
    "    \n",
    "    return None"
   ]
  },
  {
   "cell_type": "code",
   "execution_count": 263,
   "metadata": {},
   "outputs": [],
   "source": [
    "train_info = train(X_train, y_train, \n",
    "                   learning_rate = 0.001,\n",
    "                   batch_size=20, \n",
    "                   return_losses=True, \n",
    "                   return_weights=True, \n",
    "                   seed=80718)\n",
    "losses = train_info[0]\n",
    "weights = train_info[1]"
   ]
  },
  {
   "cell_type": "code",
   "execution_count": 264,
   "metadata": {},
   "outputs": [],
   "source": [
    "def logistic_predict(X: Tensor, \n",
    "                     y: Tensor, \n",
    "                     weights: Dict[str, Tensor]):\n",
    "    \n",
    "    N = torch.mm(X, weights['W'])\n",
    "    \n",
    "    O = torch.add(N, weights['B'].item())\n",
    "    \n",
    "    P = sigmoid(O)\n",
    "\n",
    "    return P >= 0.5"
   ]
  },
  {
   "cell_type": "markdown",
   "metadata": {},
   "source": [
    "### Prediction"
   ]
  },
  {
   "cell_type": "code",
   "execution_count": 265,
   "metadata": {},
   "outputs": [],
   "source": [
    "preds = logistic_predict(X_test, y_test, weights)[:, 0]"
   ]
  },
  {
   "cell_type": "code",
   "execution_count": 266,
   "metadata": {},
   "outputs": [
    {
     "data": {
      "text/plain": [
       "0.9649122807017544"
      ]
     },
     "execution_count": 266,
     "metadata": {},
     "output_type": "execute_result"
    }
   ],
   "source": [
    "accuracy_score(preds, y_test[:, 0])"
   ]
  },
  {
   "cell_type": "code",
   "execution_count": 267,
   "metadata": {},
   "outputs": [],
   "source": [
    "def accuracy_score_lr(learning_rate: float = 0.01, \n",
    "                      n_iter: int = 1000) -> float:\n",
    "    train_info = train(X_train, y_train, \n",
    "                       learning_rate=learning_rate,\n",
    "                       batch_size=20, \n",
    "                       n_iter=n_iter,\n",
    "                       return_losses=True, \n",
    "                       return_weights=True, \n",
    "                       seed=80718)\n",
    "\n",
    "    losses = train_info[0]\n",
    "    weights = train_info[1]\n",
    "\n",
    "    preds = logistic_predict(X_test, y_test, weights)[:, 0]\n",
    "    \n",
    "    return accuracy_score(preds, y_test[:, 0])"
   ]
  },
  {
   "cell_type": "code",
   "execution_count": 268,
   "metadata": {},
   "outputs": [],
   "source": [
    "iters = np.geomspace(10, 10000, 50)"
   ]
  },
  {
   "cell_type": "code",
   "execution_count": 279,
   "metadata": {},
   "outputs": [],
   "source": [
    "accs = [accuracy_score_lr(0.01, int(it)) for it in iters]"
   ]
  },
  {
   "cell_type": "code",
   "execution_count": 280,
   "metadata": {
    "scrolled": false
   },
   "outputs": [
    {
     "data": {
      "image/png": "[encoded data removed]",
      "text/plain": [
       "<Figure size 432x288 with 1 Axes>"
      ]
     },
     "metadata": {},
     "output_type": "display_data"
    }
   ],
   "source": [
    "import matplotlib.pyplot as plt\n",
    "%matplotlib inline\n",
    "\n",
    "# plt.xlim(iters[-1], lrs[0])\n",
    "plt.semilogx(iters, accs);"
   ]
  },
  {
   "cell_type": "code",
   "execution_count": 281,
   "metadata": {},
   "outputs": [],
   "source": [
    "lrs = np.geomspace(0.1, 0.00001, 50)"
   ]
  },
  {
   "cell_type": "code",
   "execution_count": 282,
   "metadata": {},
   "outputs": [],
   "source": [
    "accs_lr = [accuracy_score_lr(float(lr), 1000) for lr in lrs]"
   ]
  },
  {
   "cell_type": "code",
   "execution_count": 283,
   "metadata": {},
   "outputs": [
    {
     "data": {
      "image/png": "[encoded data removed]",
      "text/plain": [
       "<Figure size 432x288 with 1 Axes>"
      ]
     },
     "metadata": {},
     "output_type": "display_data"
    }
   ],
   "source": [
    "import matplotlib.pyplot as plt\n",
    "%matplotlib inline\n",
    "\n",
    "# plt.xlim(iters[-1], lrs[0])\n",
    "plt.semilogx(lrs, accs_lr);"
   ]
  },
  {
   "cell_type": "markdown",
   "metadata": {},
   "source": [
    "### Analyzing best model"
   ]
  },
  {
   "cell_type": "code",
   "execution_count": 284,
   "metadata": {},
   "outputs": [],
   "source": [
    "train_info = train(X_train, y_train, \n",
    "                   learning_rate=0.01,\n",
    "                   batch_size=20, \n",
    "                   n_iter=1000,\n",
    "                   return_losses=True, \n",
    "                   return_weights=True, \n",
    "                   seed=80718)\n",
    "\n",
    "losses = train_info[0]\n",
    "weights = train_info[1]\n",
    "\n",
    "preds = logistic_predict(X_test, y_test, weights)[:, 0]"
   ]
  },
  {
   "cell_type": "code",
   "execution_count": 285,
   "metadata": {},
   "outputs": [
    {
     "data": {
      "text/plain": [
       "array([[  1.28519871,   1.16626383,   9.02819983,  20.55925949,\n",
       "         -9.21343284,  31.75684994, -37.39353638, -24.77221482,\n",
       "          5.73535289,  -3.00627234, -22.16539346,  11.94608271,\n",
       "          5.3694067 , -45.12241804,  -8.85606629, -19.76363325,\n",
       "          5.45690084,  -2.21020538,  17.47779262,  42.71134151,\n",
       "        -38.82027892, -27.27501981, -24.71628495, -24.88493576,\n",
       "         -6.96910588,  30.89093275,  -0.5549467 , -17.51174391,\n",
       "        -23.00002361, -34.61004616]])"
      ]
     },
     "execution_count": 285,
     "metadata": {},
     "output_type": "execute_result"
    }
   ],
   "source": [
    "logr.coef_"
   ]
  },
  {
   "cell_type": "code",
   "execution_count": 286,
   "metadata": {},
   "outputs": [
    {
     "data": {
      "text/plain": [
       "tensor([[-0.1910],\n",
       "        [-0.6998],\n",
       "        [-1.0452],\n",
       "        [-0.8638],\n",
       "        [-0.1794],\n",
       "        [ 0.3026],\n",
       "        [-0.2207],\n",
       "        [-0.4614],\n",
       "        [ 0.1083],\n",
       "        [-0.0745],\n",
       "        [-0.7850],\n",
       "        [ 0.6330],\n",
       "        [-1.0504],\n",
       "        [-0.1120],\n",
       "        [-0.0739],\n",
       "        [-0.2744],\n",
       "        [ 0.2449],\n",
       "        [-0.2531],\n",
       "        [ 0.4973],\n",
       "        [ 0.6589],\n",
       "        [ 0.0187],\n",
       "        [-0.7388],\n",
       "        [ 0.3013],\n",
       "        [-1.4921],\n",
       "        [-1.0442],\n",
       "        [ 0.1209],\n",
       "        [-0.9671],\n",
       "        [-0.1102],\n",
       "        [-0.6200],\n",
       "        [ 0.1354]])"
      ]
     },
     "execution_count": 286,
     "metadata": {},
     "output_type": "execute_result"
    }
   ],
   "source": [
    "weights['W']"
   ]
  },
  {
   "cell_type": "markdown",
   "metadata": {},
   "source": [
    "The point of this exercise was just to sanity check that our math was correct; that these operations, which we argued through a bunch of equations would lead to us solving a logistic regression problem, actually does lead to that."
   ]
  }
 ],
 "metadata": {
  "kernelspec": {
   "display_name": "Python 3",
   "language": "python",
   "name": "python3"
  },
  "language_info": {
   "codemirror_mode": {
    "name": "ipython",
    "version": 3
   },
   "file_extension": ".py",
   "mimetype": "text/x-python",
   "name": "python",
   "nbconvert_exporter": "python",
   "pygments_lexer": "ipython3",
   "version": "3.6.6"
  }
 },
 "nbformat": 4,
 "nbformat_minor": 2
}
