{
 "cells": [
  {
   "cell_type": "markdown",
   "metadata": {},
   "source": [
    "# Setup"
   ]
  },
  {
   "cell_type": "code",
   "execution_count": 1,
   "metadata": {},
   "outputs": [],
   "source": [
    "from torch import Tensor\n",
    "import torch\n",
    "from numpy import ndarray as array\n",
    "from numpy import random\n",
    "\n",
    "from helper import to_2d\n",
    "\n",
    "from typing import List, Tuple"
   ]
  },
  {
   "cell_type": "markdown",
   "metadata": {},
   "source": [
    "### Assertions"
   ]
  },
  {
   "cell_type": "code",
   "execution_count": 2,
   "metadata": {},
   "outputs": [],
   "source": [
    "def assert_same_shape(output: Tensor, \n",
    "                      output_grad: Tensor):\n",
    "    assert output.shape == output_grad.shape, \\\n",
    "    '''\n",
    "    Two tensors should have the same shape; instead, first Tensor's shape is {0}\n",
    "    and second Tensor's shape is {1}.\n",
    "    '''.format(tuple(output_grad.shape), tuple(output.shape))\n",
    "    return None"
   ]
  },
  {
   "cell_type": "code",
   "execution_count": 3,
   "metadata": {},
   "outputs": [],
   "source": [
    "def assert_dim(tensor: Tensor, \n",
    "               dim: int):\n",
    "    assert tensor.dim() == dim, \\\n",
    "    '''\n",
    "    Tensor should have dimension {0}, instead it has dimension {1}\n",
    "    '''.format(dim, tensor.dim())\n",
    "    return None"
   ]
  },
  {
   "cell_type": "markdown",
   "metadata": {},
   "source": [
    "## `Layer` base class"
   ]
  },
  {
   "cell_type": "code",
   "execution_count": 4,
   "metadata": {},
   "outputs": [],
   "source": [
    "class Operation(object):\n",
    "\n",
    "    def __init__(self):\n",
    "        raise NotImplementedError()\n",
    "    \n",
    "    def forward(self, input_: Tensor) -> Tensor:\n",
    "        raise NotImplementedError()\n",
    "\n",
    "    def backward(self, output_grad: Tensor) -> Tensor:\n",
    "        raise NotImplementedError()"
   ]
  },
  {
   "cell_type": "code",
   "execution_count": 5,
   "metadata": {},
   "outputs": [],
   "source": [
    "class ParamOperation(Operation):\n",
    "\n",
    "    def __init__(self, param: Tensor) -> Tensor:\n",
    "        super().__init__()\n",
    "        self.param = param\n",
    "        \n",
    "    def _param_grad(self, output_grad: Tensor) -> Tensor:\n",
    "        raise NotImplementedError()"
   ]
  },
  {
   "cell_type": "code",
   "execution_count": 6,
   "metadata": {},
   "outputs": [],
   "source": [
    "class WeightMultiply(ParamOperation):\n",
    "\n",
    "    def __init__(self, \n",
    "                 W: Tensor, \n",
    "                 param_name: str='W'):\n",
    "        self.param = W\n",
    "        self.param_name = param_name\n",
    "    \n",
    "    def forward(self, \n",
    "                input_: Tensor):\n",
    "        self.input_ = input_\n",
    "\n",
    "        # Lines specific to this layer\n",
    "        assert self.input_.shape[1] == self.param.shape[0], \\\n",
    "        \"Mismatch of shapes in WeightMultiply operation\"\n",
    "    \n",
    "        self.output = torch.mm(input_, self.param)\n",
    "\n",
    "        return self.output\n",
    "\n",
    "    def backward(self, \n",
    "                 output_grad: Tensor):\n",
    "        assert_same_shape(self.output, output_grad)\n",
    "\n",
    "        # Lines specific to this layer        \n",
    "        input_grad = torch.mm(output_grad, self.param.transpose(0, 1))\n",
    "        \n",
    "        self.param_grad = self._param_grad(output_grad)\n",
    "        \n",
    "        assert_same_shape(self.input_, input_grad)\n",
    "        return input_grad\n",
    "    \n",
    "    def _param_grad(self, \n",
    "                    output_grad: Tensor):\n",
    "\n",
    "        # Lines specific to this layer \n",
    "        param_grad = torch.mm(self.input_.transpose(0, 1), output_grad)\n",
    "        \n",
    "        assert_same_shape(self.param, param_grad)\n",
    "        return param_grad"
   ]
  },
  {
   "cell_type": "code",
   "execution_count": 7,
   "metadata": {},
   "outputs": [],
   "source": [
    "class BiasAdd(ParamOperation):\n",
    "\n",
    "    def __init__(self, \n",
    "                 B: Tensor,\n",
    "                 param_name: str='B'):\n",
    "        self.param = B\n",
    "        self.param_name = param_name\n",
    "    \n",
    "    def forward(self, \n",
    "                input_: Tensor):\n",
    "        self.input_ = input_\n",
    "        \n",
    "        # Lines specific to this layer         \n",
    "        assert self.input_.shape[1] == self.param.shape[1], \\\n",
    "        \"Mismatch of shapes in BiasAdd operation\"\n",
    "        self.output = torch.add(self.input_, self.param)\n",
    "        \n",
    "        return self.output\n",
    "\n",
    "    def backward(self, \n",
    "                 output_grad: Tensor):\n",
    "        assert_same_shape(self.output, output_grad)\n",
    "        \n",
    "        input_grad = torch.ones_like(self.input_) * output_grad\n",
    "        \n",
    "        self.param_grad = self._param_grad(output_grad)\n",
    "        \n",
    "        assert_same_shape(self.input_, input_grad)\n",
    "        return input_grad\n",
    "    \n",
    "    def _param_grad(self, \n",
    "                   output_grad: Tensor):\n",
    "\n",
    "        param_grad = torch.ones_like(self.param) * output_grad\n",
    "        \n",
    "        param_grad = torch.sum(param_grad, dim=0).reshape(1, param_grad.shape[1])\n",
    "        \n",
    "        assert_same_shape(self.param, param_grad)\n",
    "        return param_grad}"
   ]
  },
  {
   "cell_type": "code",
   "execution_count": 8,
   "metadata": {},
   "outputs": [],
   "source": [
    "class Activation(Operation):\n",
    "    '''\n",
    "    Sigmoid activation function\n",
    "    '''\n",
    "    def __init__(self) -> None:\n",
    "        super().__init__()"
   ]
  },
  {
   "cell_type": "code",
   "execution_count": 9,
   "metadata": {},
   "outputs": [],
   "source": [
    "class Sigmoid(Activation):\n",
    "    '''\n",
    "    Sigmoid activation function\n",
    "    '''\n",
    "    def __init__(self) -> None:\n",
    "        pass\n",
    "        \n",
    "    def forward(self, \n",
    "                input_: Tensor) -> Tensor:\n",
    "        \n",
    "        self.input_ = input_\n",
    "        \n",
    "        self.output = 1.0/(1.0+torch.exp(-1.0 * input_))\n",
    "        \n",
    "        return self.output\n",
    "\n",
    "    def backward(self, \n",
    "                 output_grad: Tensor) -> Tensor:\n",
    "\n",
    "        assert_same_shape(self.output, output_grad)           \n",
    "        \n",
    "        sigmoid_backward = self.output*(1.0-self.output)\n",
    "        \n",
    "        input_grad = sigmoid_backward * output_grad\n",
    "        \n",
    "        assert_same_shape(self.input_, input_grad)\n",
    "        \n",
    "        return input_grad"
   ]
  },
  {
   "cell_type": "code",
   "execution_count": 10,
   "metadata": {},
   "outputs": [],
   "source": [
    "class LinearAct(Activation):\n",
    "    '''\n",
    "    Sigmoid activation function\n",
    "    '''\n",
    "    def __init__(self) -> None:\n",
    "        pass\n",
    "        \n",
    "    def forward(self, \n",
    "                input_: Tensor) -> Tensor:\n",
    "        \n",
    "        self.input_ = input_\n",
    "        \n",
    "        self.output = input_\n",
    "        \n",
    "        return self.output\n",
    "\n",
    "    def backward(self, \n",
    "                 output_grad: Tensor) -> Tensor:\n",
    "\n",
    "        assert_same_shape(self.output, output_grad)           \n",
    "        \n",
    "        input_grad = output_grad\n",
    "        \n",
    "        assert_same_shape(self.input_, input_grad)\n",
    "        \n",
    "        return input_grad"
   ]
  },
  {
   "cell_type": "code",
   "execution_count": 11,
   "metadata": {},
   "outputs": [],
   "source": [
    "class Layer(object):\n",
    "\n",
    "    def __init__(self, \n",
    "                 neurons: int) -> None:\n",
    "        self.neurons = neurons\n",
    "        self.first = True\n",
    "        self.params: Dict[str, Tensor] = {}\n",
    "        self.param_grads: Dict[str, Tensor] = {}\n",
    "\n",
    "    def _setup_layer(self, num_in: int) -> None:\n",
    "        pass\n",
    "        \n",
    "    def forward(self, input_: Tensor) -> Tensor:\n",
    "        if self.first:\n",
    "            self._setup_layer(input_.shape[1])\n",
    "            self.first = False            \n",
    "        self.input_ = input_\n",
    "        \n",
    "        for operation in self.operations:\n",
    "\n",
    "            input_ = operation.forward(input_)\n",
    "            \n",
    "        self.output = input_\n",
    "\n",
    "        return self.output\n",
    "\n",
    "    def backward(self, output_grad: Tensor) -> Tensor:\n",
    "        \n",
    "        assert_same_shape(self.output, output_grad)\n",
    "        \n",
    "        for operation in self.operations[::-1]:\n",
    "            output_grad = operation.backward(output_grad)\n",
    "            \n",
    "        input_grad = output_grad\n",
    "        \n",
    "        assert_same_shape(self.input_, input_grad)        \n",
    "        \n",
    "        self._param_grads()\n",
    "        \n",
    "        return input_grad\n",
    "        \n",
    "    def _param_grads(self, output_grad: Tensor) -> Tensor:\n",
    "\n",
    "        for operation in operations:\n",
    "            if issubclass(operation.__class__, ParamOperation):\n",
    "                self.param_grads[operation.param_name] = operation.param_grad\n",
    "                \n",
    "    def update_params(self,   \n",
    "                      learning_rate: float) -> None:\n",
    "\n",
    "        for param in self.params.keys():\n",
    "            self.params[param] -= learning_rate * self.param_grads[param]        \n",
    "        \n"
   ]
  },
  {
   "cell_type": "code",
   "execution_count": 12,
   "metadata": {},
   "outputs": [],
   "source": [
    "class Linear(Layer):\n",
    "\n",
    "    def __init__(self, \n",
    "                 neurons: int, \n",
    "                 activation: Activation = None) -> None:\n",
    "        self.neurons = neurons\n",
    "        self.activation = activation\n",
    "        self.first = True\n",
    "        self.params: Dict[str, Tensor] = {}\n",
    "        self.param_grads: Dict[str, Tensor] = {}\n",
    "\n",
    "    def _setup_layer(self, num_in: int) -> None:\n",
    "        self.params['W'] = torch.empty(num_in, self.neurons).uniform_(-1, 1)\n",
    "        self.params['B'] = torch.empty(1, self.neurons).uniform_(-1, 1)\n",
    "        self.operations = [WeightMultiply(self.params['W']), \n",
    "                           BiasAdd(self.params['B'])] + [self.activation]\n",
    "        \n",
    "    def forward(self, input_: Tensor) -> Tensor:\n",
    "        if self.first:\n",
    "            self._setup_layer(input_.shape[1])\n",
    "            self.first = False            \n",
    "        self.input_ = input_\n",
    "        \n",
    "        for operation in self.operations:\n",
    "\n",
    "            input_ = operation.forward(input_)\n",
    "            \n",
    "        self.output = input_\n",
    "\n",
    "        return self.output\n",
    "\n",
    "    def backward(self, output_grad: Tensor) -> Tensor:\n",
    "        \n",
    "        assert_same_shape(self.output, output_grad)\n",
    "        \n",
    "        for operation in self.operations[::-1]:\n",
    "            output_grad = operation.backward(output_grad)\n",
    "            \n",
    "        input_grad = output_grad\n",
    "        \n",
    "        assert_same_shape(self.input_, input_grad)        \n",
    "        \n",
    "        self._param_grads()\n",
    "        \n",
    "        return input_grad\n",
    "        \n",
    "    def _param_grads(self) -> Tensor:\n",
    "\n",
    "        for operation in self.operations:\n",
    "            if issubclass(operation.__class__, ParamOperation):\n",
    "                self.param_grads[operation.param_name] = operation.param_grad\n",
    "                \n",
    "    def update_params(self, \n",
    "                      learning_rate: float) -> None:\n",
    "\n",
    "        for param in self.params.keys():\n",
    "            self.params[param] -= learning_rate * self.param_grads[param]"
   ]
  },
  {
   "cell_type": "code",
   "execution_count": 13,
   "metadata": {},
   "outputs": [],
   "source": [
    "class Loss(object):\n",
    "\n",
    "    def __init__(self) -> None:\n",
    "        pass\n",
    "    \n",
    "    \n",
    "    def loss_grad(self, \n",
    "                  prediction: Tensor, \n",
    "                  target: Tensor) -> float:\n",
    "        raise NotImplementedError()"
   ]
  },
  {
   "cell_type": "code",
   "execution_count": 14,
   "metadata": {},
   "outputs": [],
   "source": [
    "class MeanSquaredError(Loss):\n",
    "\n",
    "    def __init__(self) -> None:\n",
    "        pass\n",
    "    \n",
    "    \n",
    "    def loss_gradient(self, \n",
    "                      prediction: Tensor, \n",
    "                      target: Tensor) -> Tensor:\n",
    "        loss = torch.sum(torch.pow(prediction - target, 2))\n",
    "        \n",
    "        loss_grad = -2.0 * torch.add(target, -1.0 * prediction)\n",
    "        \n",
    "        self.loss_grad = loss_grad\n",
    "        \n",
    "        assert_same_shape(prediction, loss_grad)\n",
    "        \n",
    "        return loss      "
   ]
  },
  {
   "cell_type": "code",
   "execution_count": 15,
   "metadata": {},
   "outputs": [],
   "source": [
    "class NeuralNetwork:\n",
    "    '''\n",
    "    Neural network class. All the functions here are pretty straightforward.\n",
    "    '''\n",
    "    def __init__(self, layers: List[Layer], \n",
    "                 loss: Loss, \n",
    "                 learning_rate: float = 0.01) -> None:\n",
    "        self.layers = layers\n",
    "        self.loss = loss\n",
    "        self.learning_rate = learning_rate\n",
    "        \n",
    "    def forward(self, X_batch: Tensor) -> Tensor:\n",
    "        \n",
    "        X_out = X_batch\n",
    "        for layer in self.layers:\n",
    "            X_out = layer.forward(X_out)\n",
    "\n",
    "        return X_out\n",
    "    \n",
    "    def forward_loss(self, \n",
    "                     X_batch: Tensor, \n",
    "                     y_batch: Tensor) -> float:\n",
    "        \n",
    "        prediction = self.forward(X_batch)\n",
    "        return self.loss.loss_gradient(prediction, y_batch)\n",
    "    \n",
    "    def backward(self, loss_grad: Tensor) -> None:\n",
    "    \n",
    "        grad = loss_grad\n",
    "        for layer in reversed(self.layers):\n",
    "            grad = layer.backward(grad)\n",
    "            \n",
    "        return None\n",
    "    \n",
    "    def train_batch(self, \n",
    "                    X_batch: Tensor,\n",
    "                    y_batch: Tensor) -> float:\n",
    "        \n",
    "        loss = self.forward_loss(X_batch, y_batch)\n",
    "        \n",
    "        self.backward(self.loss.loss_grad)\n",
    "        \n",
    "        self.update_params()\n",
    "        \n",
    "        return loss\n",
    "    \n",
    "            \n",
    "    def update_params(self) -> None:\n",
    "        for layer in self.layers:\n",
    "            layer.update_params(self.learning_rate)\n",
    "            \n"
   ]
  },
  {
   "cell_type": "markdown",
   "metadata": {},
   "source": [
    "# Boston dataset"
   ]
  },
  {
   "cell_type": "code",
   "execution_count": 16,
   "metadata": {},
   "outputs": [],
   "source": [
    "from sklearn.datasets import load_boston"
   ]
  },
  {
   "cell_type": "code",
   "execution_count": 17,
   "metadata": {},
   "outputs": [],
   "source": [
    "boston = load_boston()"
   ]
  },
  {
   "cell_type": "code",
   "execution_count": 18,
   "metadata": {},
   "outputs": [],
   "source": [
    "data = boston.data\n",
    "target = boston.target\n",
    "features = boston.feature_names"
   ]
  },
  {
   "cell_type": "code",
   "execution_count": 19,
   "metadata": {},
   "outputs": [],
   "source": [
    "from sklearn.preprocessing import StandardScaler\n",
    "s = StandardScaler()\n",
    "data = s.fit_transform(data)"
   ]
  },
  {
   "cell_type": "code",
   "execution_count": 20,
   "metadata": {},
   "outputs": [],
   "source": [
    "from sklearn.model_selection import train_test_split\n",
    "X_train, X_test, y_train, y_test = train_test_split(data, target, test_size=0.3, random_state=80718)"
   ]
  },
  {
   "cell_type": "code",
   "execution_count": 21,
   "metadata": {},
   "outputs": [],
   "source": [
    "X_train, X_test, y_train, y_test = Tensor(X_train), Tensor(X_test), Tensor(y_train), Tensor(y_test)"
   ]
  },
  {
   "cell_type": "code",
   "execution_count": 22,
   "metadata": {},
   "outputs": [],
   "source": [
    "from helper import to_2d"
   ]
  },
  {
   "cell_type": "code",
   "execution_count": 23,
   "metadata": {},
   "outputs": [],
   "source": [
    "def permute_data(X, y):\n",
    "    perm = torch.randperm(X.shape[0])\n",
    "    return X[perm], y[perm]"
   ]
  },
  {
   "cell_type": "code",
   "execution_count": 24,
   "metadata": {},
   "outputs": [],
   "source": [
    "Batch = Tuple[Tensor, Tensor]\n",
    "\n",
    "def generate_batch(X: Tensor, \n",
    "                   y: Tensor,\n",
    "                   start: int = 0,\n",
    "                   batch_size: int = 10) -> Batch:\n",
    "    \n",
    "    assert (X.dim() == 2) and (y.dim() == 2), \\\n",
    "    \"X and Y must be 2 dimensional\"\n",
    "\n",
    "    if start+batch_size > X.shape[0]:\n",
    "        batch_size = X.shape[0] - start\n",
    "    \n",
    "    X_batch, y_batch = X[start:start+batch_size], y[start:start+batch_size]\n",
    "    \n",
    "    return X_batch, y_batch"
   ]
  },
  {
   "cell_type": "code",
   "execution_count": 25,
   "metadata": {},
   "outputs": [],
   "source": [
    "def train(nn: NeuralNetwork,\n",
    "          X: Tensor, \n",
    "          y: Tensor,\n",
    "          n_iter: int = 1000,\n",
    "          print_every: int = 100,\n",
    "          batch_size: int = 100, \n",
    "          seed: int = 1) -> None:\n",
    "\n",
    "    if seed:\n",
    "        torch.manual_seed(seed)\n",
    "    y = to_2d(y, \"col\")\n",
    "    start = 0\n",
    "\n",
    "    # Permute data\n",
    "    X, y = permute_data(X, y)\n",
    "\n",
    "    losses = []\n",
    "\n",
    "    for i in range(n_iter):\n",
    "\n",
    "        # Generate batch\n",
    "        if start >= X.shape[0]:\n",
    "            X, y = permute_data(X, y)\n",
    "            start = 0\n",
    "        \n",
    "        X_batch, y_batch = generate_batch(X, y, start, batch_size)\n",
    "        start += batch_size\n",
    "    \n",
    "        loss = nn.train_batch(X_batch, y_batch)\n",
    "        if i % print_every == 0 and i != 0:\n",
    "            print(loss)\n",
    "        \n",
    "        losses.append(loss)\n",
    "\n",
    "    return losses\n",
    "    "
   ]
  },
  {
   "cell_type": "markdown",
   "metadata": {},
   "source": [
    "### Training loop"
   ]
  },
  {
   "cell_type": "code",
   "execution_count": 26,
   "metadata": {},
   "outputs": [],
   "source": [
    "num_iter = 10000\n",
    "print_every = 10000"
   ]
  },
  {
   "cell_type": "code",
   "execution_count": 27,
   "metadata": {
    "scrolled": true
   },
   "outputs": [],
   "source": [
    "lr = NeuralNetwork(\n",
    "    layers=[Linear(neurons=1, \n",
    "                   activation=LinearAct())],\n",
    "    loss=MeanSquaredError(),\n",
    "    learning_rate=0.0002,\n",
    ")\n",
    "\n",
    "train(lr, X_train, y_train, \n",
    "      n_iter = num_iter, \n",
    "      print_every = print_every, \n",
    "      batch_size = 23, \n",
    "      seed=80718);"
   ]
  },
  {
   "cell_type": "code",
   "execution_count": 28,
   "metadata": {},
   "outputs": [],
   "source": [
    "def mae(y_true, y_pred):\n",
    "    return round(torch.mean(torch.abs(y_true - y_pred)).item(), 4)\n",
    "\n",
    "def mse(y_true, y_pred):\n",
    "    return round(torch.mean(torch.pow(y_true - y_pred, 2)).item(), 4)"
   ]
  },
  {
   "cell_type": "code",
   "execution_count": 29,
   "metadata": {},
   "outputs": [],
   "source": [
    "lr_preds_test = lr.forward(X_test).reshape(X_test.shape[0])"
   ]
  },
  {
   "cell_type": "code",
   "execution_count": 30,
   "metadata": {},
   "outputs": [
    {
     "data": {
      "text/plain": [
       "3.5751"
      ]
     },
     "execution_count": 30,
     "metadata": {},
     "output_type": "execute_result"
    }
   ],
   "source": [
    "mae(y_test, lr_preds_test)"
   ]
  },
  {
   "cell_type": "code",
   "execution_count": 31,
   "metadata": {},
   "outputs": [
    {
     "data": {
      "text/plain": [
       "25.5706"
      ]
     },
     "execution_count": 31,
     "metadata": {},
     "output_type": "execute_result"
    }
   ],
   "source": [
    "mse(y_test, lr_preds_test)"
   ]
  },
  {
   "cell_type": "markdown",
   "metadata": {},
   "source": [
    "### Neural network regression"
   ]
  },
  {
   "cell_type": "code",
   "execution_count": 32,
   "metadata": {},
   "outputs": [
    {
     "name": "stdout",
     "output_type": "stream",
     "text": [
      "tensor(300.4627)\n",
      "tensor(257.7684)\n",
      "tensor(481.6164)\n",
      "tensor(258.4339)\n",
      "tensor(272.9756)\n",
      "tensor(195.5693)\n",
      "tensor(139.1275)\n",
      "tensor(81.1519)\n",
      "tensor(81.4568)\n"
     ]
    }
   ],
   "source": [
    "nn = NeuralNetwork(\n",
    "    layers=[Linear(neurons=13, \n",
    "                   activation=Sigmoid()),\n",
    "            Linear(neurons=1, \n",
    "                   activation=LinearAct())],\n",
    "    loss=MeanSquaredError(),\n",
    "    learning_rate=0.00001,\n",
    ")\n",
    "\n",
    "train(nn, X_train, y_train, \n",
    "      n_iter = 100000, \n",
    "      print_every = print_every, \n",
    "      batch_size = 23, \n",
    "      seed=80718);"
   ]
  },
  {
   "cell_type": "code",
   "execution_count": 33,
   "metadata": {},
   "outputs": [],
   "source": [
    "nn_preds = nn.forward(X_test).reshape(X_test.shape[0])"
   ]
  },
  {
   "cell_type": "code",
   "execution_count": 34,
   "metadata": {},
   "outputs": [
    {
     "data": {
      "text/plain": [
       "2.1422"
      ]
     },
     "execution_count": 34,
     "metadata": {},
     "output_type": "execute_result"
    }
   ],
   "source": [
    "mae(y_test, nn_preds)"
   ]
  },
  {
   "cell_type": "code",
   "execution_count": 35,
   "metadata": {},
   "outputs": [
    {
     "data": {
      "text/plain": [
       "10.9543"
      ]
     },
     "execution_count": 35,
     "metadata": {},
     "output_type": "execute_result"
    }
   ],
   "source": [
    "mse(y_test, nn_preds)"
   ]
  },
  {
   "cell_type": "markdown",
   "metadata": {},
   "source": [
    "### Deep Learning!"
   ]
  },
  {
   "cell_type": "code",
   "execution_count": 36,
   "metadata": {},
   "outputs": [
    {
     "name": "stdout",
     "output_type": "stream",
     "text": [
      "tensor(125.0521)\n",
      "tensor(145.8671)\n",
      "tensor(114.6383)\n",
      "tensor(434.4886)\n",
      "tensor(155.5627)\n",
      "tensor(164.6972)\n",
      "tensor(83.1765)\n",
      "tensor(71.0046)\n",
      "tensor(61.4810)\n",
      "2.0874\n",
      "9.39\n"
     ]
    }
   ],
   "source": [
    "dl = NeuralNetwork(\n",
    "    layers=[Linear(neurons=13, \n",
    "                   activation=Sigmoid()),\n",
    "            Linear(neurons=13, \n",
    "                   activation=Sigmoid()),\n",
    "            Linear(neurons=1, \n",
    "                   activation=LinearAct())],\n",
    "    loss=MeanSquaredError(),\n",
    "    learning_rate=0.00001,\n",
    ")\n",
    "\n",
    "train(dl, X_train, y_train, \n",
    "      n_iter = 100000, \n",
    "      print_every = print_every, \n",
    "      batch_size = 23, \n",
    "      seed=80718);\n",
    "\n",
    "preds_test = dl.forward(X_test).reshape(X_test.shape[0])\n",
    "\n",
    "print(mae(y_test, preds_test))\n",
    "\n",
    "print(mse(y_test, preds_test))"
   ]
  },
  {
   "cell_type": "markdown",
   "metadata": {},
   "source": [
    "### Plotting!"
   ]
  },
  {
   "cell_type": "code",
   "execution_count": 37,
   "metadata": {},
   "outputs": [
    {
     "data": {
      "image/png": "[encoded data removed]",
      "text/plain": [
       "<Figure size 432x288 with 1 Axes>"
      ]
     },
     "metadata": {},
     "output_type": "display_data"
    }
   ],
   "source": [
    "import matplotlib.pyplot as plt\n",
    "%matplotlib inline\n",
    "\n",
    "plt.scatter(X_test[:, 12], preds_test)\n",
    "plt.ylim([6, 51])\n",
    "plt.xlabel(\"Most important feature\")\n",
    "plt.ylabel(\"Predictions\")\n",
    "plt.title(\"Most important feature vs. predictions \\n in neural network regression\");\n"
   ]
  },
  {
   "cell_type": "markdown",
   "metadata": {},
   "source": [
    "#### Theoretical relationship"
   ]
  },
  {
   "cell_type": "code",
   "execution_count": 38,
   "metadata": {},
   "outputs": [],
   "source": [
    "import numpy as np"
   ]
  },
  {
   "cell_type": "code",
   "execution_count": 39,
   "metadata": {},
   "outputs": [],
   "source": [
    "NUM = 50\n",
    "a = np.zeros((NUM, 12))\n",
    "b = np.linspace(-2.0, 3.5, NUM).reshape(NUM, 1)\n",
    "test_feature = Tensor(np.concatenate([a, b], axis=1))\n",
    "preds_test_theory = dl.forward(test_feature).reshape(test_feature.shape[0])"
   ]
  },
  {
   "cell_type": "code",
   "execution_count": 40,
   "metadata": {},
   "outputs": [
    {
     "data": {
      "text/plain": [
       "(6, 51)"
      ]
     },
     "execution_count": 40,
     "metadata": {},
     "output_type": "execute_result"
    },
    {
     "data": {
      "image/png": "[encoded data removed]",
      "text/plain": [
       "<Figure size 432x288 with 1 Axes>"
      ]
     },
     "metadata": {},
     "output_type": "display_data"
    }
   ],
   "source": [
    "plt.scatter(np.array(test_feature[:, -1]), np.array(preds_test_theory))\n",
    "plt.ylim([6, 51])"
   ]
  }
 ],
 "metadata": {
  "kernelspec": {
   "display_name": "Python 3",
   "language": "python",
   "name": "python3"
  },
  "language_info": {
   "codemirror_mode": {
    "name": "ipython",
    "version": 3
   },
   "file_extension": ".py",
   "mimetype": "text/x-python",
   "name": "python",
   "nbconvert_exporter": "python",
   "pygments_lexer": "ipython3",
   "version": "3.6.6"
  }
 },
 "nbformat": 4,
 "nbformat_minor": 2
}
