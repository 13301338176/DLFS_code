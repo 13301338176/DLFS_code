{
 "cells": [
  {
   "cell_type": "markdown",
   "metadata": {},
   "source": [
    "### X and Y vectors"
   ]
  },
  {
   "cell_type": "markdown",
   "metadata": {},
   "source": [
    "$$ X = \\begin{bmatrix}x_1 & x_2 & x_3 & ... & x_{n}\\end{bmatrix} $$\n",
    "\n",
    "\n",
    "$$ Y = \\begin{bmatrix}y_1\\\\y_2\\\\y_3\\\\\\ldots\\\\y_{n}\\end{bmatrix} $$"
   ]
  },
  {
   "cell_type": "markdown",
   "metadata": {},
   "source": [
    "### M definition"
   ]
  },
  {
   "cell_type": "markdown",
   "metadata": {},
   "source": [
    "$$ \\begin{align}\n",
    "M = \\mu(X, Y) = \\begin{bmatrix}x_1 * y_1 & x_2 * y_1 & x_3 * y_1 & \\ldots & x_n * y_1\\\\\n",
    "                         x_1 * y_2 & x_2 * y_2 & x_3 * y_2 & \\ldots & x_n * y_2\\\\\n",
    "                         x_1 * y_3 & x_2 * y_3 & x_3 * y_3 & \\ldots & x_n * y_3\\\\\n",
    "                      \\vdots & \\vdots & \\vdots & \\ddots & \\vdots\\\\\n",
    "                      x_1 * y_n & x_2 * y_n & x_3 * y_n & \\ldots & x_n * y_n\\\\\n",
    "                      \\end{bmatrix} \n",
    "                      \\end{align}$$"
   ]
  },
  {
   "cell_type": "markdown",
   "metadata": {},
   "source": [
    "### Z definition"
   ]
  },
  {
   "cell_type": "markdown",
   "metadata": {},
   "source": [
    "$$ Z = \\sigma(M) = \\begin{bmatrix}\\sigma(\\mu(x_1, y_1) & \\sigma(\\mu(x_2, y_1)) & \\sigma(\\mu(x_3, y_1)) & \\ldots & \\sigma(\\mu(x_n * y_1))\\\\\n",
    "                         \\sigma(\\mu(x_1, y_2)) & \\sigma(\\mu(x_2, y_2)) & \\sigma(\\mu(x_3, y_2)) & \\ldots & \\sigma(\\mu(x_n, y_2))\\\\\n",
    "                         \\sigma(\\mu(x_1, y_3)) & \\sigma(\\mu(x_2, y_3)) & \\sigma(\\mu(x_3, y_3)) & \\ldots & \\sigma(\\mu(x_n, y_3))\\\\\n",
    "                      \\vdots & \\vdots & \\vdots & \\ddots & \\vdots\\\\\n",
    "                      \\sigma(\\mu(x_1, y_n)) & \\sigma(\\mu(x_2, y_n)) & \\sigma(\\mu(x_3, y_n)) & \\ldots & \\sigma(\\mu(x_n, y_n))\\\\\n",
    "                      \\end{bmatrix} = \\begin{bmatrix}\\sigma(x_1 * y_1) & \\sigma(x_2 * y_1) & \\sigma(x_3 * y_1) & \\ldots & \\sigma(x_n * y_1)\\\\\n",
    "                         \\sigma(x_1 * y_2) & \\sigma(x_2 * y_2) & \\sigma(x_3 * y_2) & \\ldots & \\sigma(x_n * y_2)\\\\\n",
    "                         \\sigma(x_1 * y_3) & \\sigma(x_2 * y_3) & \\sigma(x_3 * y_3) & \\ldots & \\sigma(x_n * y_3)\\\\\n",
    "                      \\vdots & \\vdots & \\vdots & \\ddots & \\vdots\\\\\n",
    "                      \\sigma(x_1 * y_n) & \\sigma(x_2 * y_n) & \\sigma(x_3 * y_n) & \\ldots & \\sigma(x_n * y_n)\\\\\n",
    "                      \\end{bmatrix} $$"
   ]
  },
  {
   "cell_type": "markdown",
   "metadata": {},
   "source": [
    "$$ Z = \\begin{bmatrix}f(x_1, y_1) & f(x_2, y_1) & f(x_3, y_1) & \\ldots & f(x_n, y_1)\\\\\n",
    "                      f(x_1, y_2) & f(x_2, y_2) & f(x_3, y_2) & \\ldots & f(x_n, y_2)\\\\\n",
    "                      f(x_1, y_3) & f(x_2, y_3) & f(x_3, y_3) & \\ldots & f(x_n, y_3)\\\\\n",
    "                      \\vdots & \\vdots & \\vdots & \\ddots & \\vdots\\\\\n",
    "                      f(x_1, y_n) & f(x_2, y_n) & f(x_3, y_n) & \\ldots & f(x_n, y_n)\\\\\n",
    "                      \\end{bmatrix} $$"
   ]
  },
  {
   "cell_type": "markdown",
   "metadata": {},
   "source": [
    "### Partial f partial x definition"
   ]
  },
  {
   "cell_type": "markdown",
   "metadata": {},
   "source": [
    "$$ \\frac{\\partial f}{\\partial x} = \\frac{\\partial \\sigma}{\\partial \\mu}\\bigr\\rvert_{(m)} * \\frac{\\partial \\mu}{\\partial x} $$"
   ]
  },
  {
   "cell_type": "markdown",
   "metadata": {},
   "source": [
    "$$ \\begin{align}\n",
    "\\frac{\\partial f}{\\partial X} =& \\begin{bmatrix}\n",
    "\\frac{\\partial \\sigma}{\\partial \\mu}\\bigr\\rvert_{(\\mu(x_1, y_1))} * \\frac{\\partial \\mu}{\\partial x}\\bigr\\rvert_{(x_1, y_1)} & \n",
    "\\frac{\\partial \\sigma}{\\partial \\mu}\\bigr\\rvert_{(\\mu(x_2, y_1))} * \\frac{\\partial \\mu}{\\partial x}\\bigr\\rvert_{(x_2, y_1)} & \n",
    "\\frac{\\partial \\sigma}{\\partial \\mu}\\bigr\\rvert_{(\\mu(x_3, y_1))} * \\frac{\\partial \\mu}{\\partial x}\\bigr\\rvert_{(x_3, y_1)} & \\ldots & \n",
    "\\frac{\\partial \\sigma}{\\partial \\mu}\\bigr\\rvert_{(\\mu(x_n, y_1))} * \\frac{\\partial \\mu}{\\partial x}\\bigr\\rvert_{(x_n, y_1)} \\\\\n",
    "\\frac{\\partial \\sigma}{\\partial \\mu}\\bigr\\rvert_{(\\mu(x_1, y_2))} * \\frac{\\partial \\mu}{\\partial x}\\bigr\\rvert_{(x_1, y_2)} & \n",
    "\\frac{\\partial \\sigma}{\\partial \\mu}\\bigr\\rvert_{(\\mu(x_2, y_2))} * \\frac{\\partial \\mu}{\\partial x}\\bigr\\rvert_{(x_2, y_2)} & \n",
    "\\frac{\\partial \\sigma}{\\partial \\mu}\\bigr\\rvert_{(\\mu(x_3, y_2))} * \\frac{\\partial \\mu}{\\partial x}\\bigr\\rvert_{(x_3, y_2)} & \\ldots & \n",
    "\\frac{\\partial \\sigma}{\\partial \\mu}\\bigr\\rvert_{(\\mu(x_n, y_2))} * \\frac{\\partial \\mu}{\\partial x}\\bigr\\rvert_{(x_n, y_2)} \\\\\n",
    "\\frac{\\partial \\sigma}{\\partial \\mu}\\bigr\\rvert_{(\\mu(x_1, y_3))} * \\frac{\\partial \\mu}{\\partial x}\\bigr\\rvert_{(x_1, y_3)} & \n",
    "\\frac{\\partial \\sigma}{\\partial \\mu}\\bigr\\rvert_{(\\mu(x_2, y_3))} * \\frac{\\partial \\mu}{\\partial x}\\bigr\\rvert_{(x_2, y_3)} & \n",
    "\\frac{\\partial \\sigma}{\\partial \\mu}\\bigr\\rvert_{(\\mu(x_3, y_3))} * \\frac{\\partial \\mu}{\\partial x}\\bigr\\rvert_{(x_3, y_3)} & \\ldots & \n",
    "\\frac{\\partial \\sigma}{\\partial \\mu}\\bigr\\rvert_{(\\mu(x_3, y_3))} * \\frac{\\partial \\mu}{\\partial x}\\bigr\\rvert_{(x_n, y_3)} \\\\\n",
    "\\vdots & \\vdots & \\vdots & \\ddots & \\vdots\\\\\n",
    "\\frac{\\partial \\sigma}{\\partial \\mu}\\bigr\\rvert_{(\\mu(x_1, y_n))} * \\frac{\\partial \\mu}{\\partial x}\\bigr\\rvert_{(x_1, y_n)} & \n",
    "\\frac{\\partial \\sigma}{\\partial \\mu}\\bigr\\rvert_{(\\mu(x_2, y_n))} * \\frac{\\partial \\mu}{\\partial x}\\bigr\\rvert_{(x_2, y_n)} & \n",
    "\\frac{\\partial \\sigma}{\\partial \\mu}\\bigr\\rvert_{(\\mu(x_3, y_n))} * \\frac{\\partial \\mu}{\\partial x}\\bigr\\rvert_{(x_3, y_n)} & \\ldots & \n",
    "\\frac{\\partial \\sigma}{\\partial \\mu}\\bigr\\rvert_{(\\mu(x_3, y_n))} * \\frac{\\partial \\mu}{\\partial x}\\bigr\\rvert_{(x_n, y_n)} \\\\\n",
    "\\end{bmatrix}\\\\\n",
    "=& \\begin{bmatrix}\\sigma'(x_1 * y_1) * y_1 & \\sigma'(x_2 * y_1) * y_1 & \\sigma'(x_3 * y_1) * y_1 & \\ldots & \\sigma'(x_5 * y_1) * y_1\\\\\n",
    "                      \\sigma'(x_1 * y_2) * y_2 & \\sigma'(x_2 * y_2) * y_2 & \\sigma'(x_3 * y_2) * y_2 & \\ldots & \\sigma'(x_5 * y_2) * y_2\\\\\n",
    "                      \\sigma'(x_1 * y_3) * y_3 & \\sigma'(x_2 * y_3) * y_3 & \\sigma'(x_3 * y_3) * y_3 & \\ldots & \\sigma'(x_5 * y_3) * y_3\\\\\n",
    "                      \\vdots & \\vdots & \\vdots & \\ddots & \\vdots\\\\\n",
    "                      \\sigma'(x_1 * y_5) * y_5 & \\sigma'(x_2 * y_5) * y_5 & \\sigma'(x_3 * y_5) * y_5 & \\ldots & \\sigma'(x_5 * y_5) * y_5\\\\\n",
    "                      \\end{bmatrix}                    \n",
    "\\end{align} $$"
   ]
  },
  {
   "cell_type": "markdown",
   "metadata": {},
   "source": [
    "$$ \\begin{align}\n",
    "\\frac{\\partial f}{\\partial X} \n",
    "=& \\begin{bmatrix}\\sigma'(x_1 * y_1) * y_1 & \\sigma'(x_2 * y_1) * y_1 & \\sigma'(x_3 * y_1) * y_1 & \\ldots & \\sigma'(x_5 * y_1) * y_1\\\\\n",
    "                      \\sigma'(x_1 * y_2) * y_2 & \\sigma'(x_2 * y_2) * y_2 & \\sigma'(x_3 * y_2) * y_2 & \\ldots & \\sigma'(x_5 * y_2) * y_2\\\\\n",
    "                      \\sigma'(x_1 * y_3) * y_3 & \\sigma'(x_2 * y_3) * y_3 & \\sigma'(x_3 * y_3) * y_3 & \\ldots & \\sigma'(x_5 * y_3) * y_3\\\\\n",
    "                      \\vdots & \\vdots & \\vdots & \\ddots & \\vdots\\\\\n",
    "                      \\sigma'(x_1 * y_5) * y_5 & \\sigma'(x_2 * y_5) * y_5 & \\sigma'(x_3 * y_5) * y_5 & \\ldots & \\sigma'(x_5 * y_5) * y_5\\\\\n",
    "                      \\end{bmatrix} \\\\ =&\n",
    "\\begin{bmatrix}y_1 \\\\ y_2 \\\\ y_3 \\\\ \\vdots \\\\ y_n\\end{bmatrix} *\n",
    "\\begin{bmatrix}\\sigma'(x_1 * y_1) & \\sigma'(x_2 * y_1) & \\sigma'(x_3 * y_1) & \\ldots & \\sigma'(x_n * y_1)\\\\\n",
    "\\sigma'(x_1 * y_2) & \\sigma'(x_2 * y_2) & \\sigma'(x_3 * y_2) & \\ldots & \\sigma'(x_n * y_2)\\\\\n",
    "\\sigma'(x_1 * y_3) & \\sigma'(x_2 * y_3) & \\sigma'(x_3 * y_3) & \\ldots & \\sigma'(x_n * y_3)\\\\\n",
    "\\vdots & \\vdots & \\vdots & \\ddots & \\vdots\\\\\n",
    "\\sigma'(x_1 * y_n) & \\sigma'(x_2 * y_n) & \\sigma'(x_3 * y_n) & \\ldots & \\sigma'(x_n * y_n)\\\\\n",
    "\\end{bmatrix}\\\\\n",
    " =& Y *\n",
    "\\begin{bmatrix}\\sigma'(x_1 * y_1) & \\sigma'(x_2 * y_1) & \\sigma'(x_3 * y_1) & \\ldots & \\sigma'(x_n * y_1)\\\\\n",
    "                      \\sigma'(x_1 * y_2) & \\sigma'(x_2 * y_2) & \\sigma'(x_3 * y_2) & \\ldots & \\sigma'(x_n * y_2)\\\\\n",
    "                      \\sigma'(x_1 * y_3) & \\sigma'(x_2 * y_3) & \\sigma'(x_3 * y_3) & \\ldots & \\sigma'(x_n * y_3)\\\\\n",
    "                      \\vdots & \\vdots & \\vdots & \\ddots & \\vdots\\\\\n",
    "                      \\sigma'(x_1 * y_n) & \\sigma'(x_2 * y_n) & \\sigma'(x_3 * y_n) & \\ldots & \\sigma'(x_n * y_5)\\\\\n",
    "                      \\end{bmatrix}                      \n",
    "\\end{align} $$"
   ]
  },
  {
   "cell_type": "markdown",
   "metadata": {},
   "source": [
    "$$ \\begin{align}\n",
    "\\frac{\\partial f}{\\partial Y} =& \n",
    "\\begin{bmatrix}\n",
    "\\frac{\\partial \\sigma}{\\partial \\mu}\\bigr\\rvert_{(\\mu(x_1, y_1))} * \\frac{\\partial \\mu}{\\partial y}\\bigr\\rvert_{(x_1, y_1)} & \n",
    "\\frac{\\partial \\sigma}{\\partial \\mu}\\bigr\\rvert_{(\\mu(x_2, y_1))} * \\frac{\\partial \\mu}{\\partial y}\\bigr\\rvert_{(x_2, y_1)} & \n",
    "\\frac{\\partial \\sigma}{\\partial \\mu}\\bigr\\rvert_{(\\mu(x_3, y_1))} * \\frac{\\partial \\mu}{\\partial y}\\bigr\\rvert_{(x_3, y_1)} & \\ldots & \n",
    "\\frac{\\partial \\sigma}{\\partial \\mu}\\bigr\\rvert_{(\\mu(x_n, y_1))} * \\frac{\\partial \\mu}{\\partial y}\\bigr\\rvert_{(x_n, y_1)} \\\\\n",
    "\\frac{\\partial \\sigma}{\\partial \\mu}\\bigr\\rvert_{(\\mu(x_1, y_2))} * \\frac{\\partial \\mu}{\\partial y}\\bigr\\rvert_{(x_1, y_2)} & \n",
    "\\frac{\\partial \\sigma}{\\partial \\mu}\\bigr\\rvert_{(\\mu(x_2, y_2))} * \\frac{\\partial \\mu}{\\partial y}\\bigr\\rvert_{(x_2, y_2)} & \n",
    "\\frac{\\partial \\sigma}{\\partial \\mu}\\bigr\\rvert_{(\\mu(x_3, y_2))} * \\frac{\\partial \\mu}{\\partial y}\\bigr\\rvert_{(x_3, y_2)} & \\ldots & \n",
    "\\frac{\\partial \\sigma}{\\partial \\mu}\\bigr\\rvert_{(\\mu(x_n, y_2))} * \\frac{\\partial \\mu}{\\partial y}\\bigr\\rvert_{(x_n, y_2)} \\\\\n",
    "\\frac{\\partial \\sigma}{\\partial \\mu}\\bigr\\rvert_{(\\mu(x_1, y_3))} * \\frac{\\partial \\mu}{\\partial y}\\bigr\\rvert_{(x_1, y_3)} & \n",
    "\\frac{\\partial \\sigma}{\\partial \\mu}\\bigr\\rvert_{(\\mu(x_2, y_3))} * \\frac{\\partial \\mu}{\\partial y}\\bigr\\rvert_{(x_2, y_3)} & \n",
    "\\frac{\\partial \\sigma}{\\partial \\mu}\\bigr\\rvert_{(\\mu(x_3, y_3))} * \\frac{\\partial \\mu}{\\partial y}\\bigr\\rvert_{(x_3, y_3)} & \\ldots & \n",
    "\\frac{\\partial \\sigma}{\\partial \\mu}\\bigr\\rvert_{(\\mu(x_3, y_3))} * \\frac{\\partial \\mu}{\\partial y}\\bigr\\rvert_{(x_n, y_3)} \\\\\n",
    "\\vdots & \\vdots & \\vdots & \\ddots & \\vdots\\\\\n",
    "\\frac{\\partial \\sigma}{\\partial \\mu}\\bigr\\rvert_{(\\mu(x_1, y_n))} * \\frac{\\partial \\mu}{\\partial y}\\bigr\\rvert_{(x_1, y_n)} & \n",
    "\\frac{\\partial \\sigma}{\\partial \\mu}\\bigr\\rvert_{(\\mu(x_2, y_n))} * \\frac{\\partial \\mu}{\\partial y}\\bigr\\rvert_{(x_2, y_n)} & \n",
    "\\frac{\\partial \\sigma}{\\partial \\mu}\\bigr\\rvert_{(\\mu(x_3, y_n))} * \\frac{\\partial \\mu}{\\partial y}\\bigr\\rvert_{(x_3, y_n)} & \\ldots & \n",
    "\\frac{\\partial \\sigma}{\\partial \\mu}\\bigr\\rvert_{(\\mu(x_3, y_n))} * \\frac{\\partial \\mu}{\\partial y}\\bigr\\rvert_{(x_n, y_n)} \\\\\n",
    "\\end{bmatrix}\\\\ \n",
    "=& \\begin{bmatrix}\n",
    "\\sigma'(x_1 * y_1) * x_1 & \\sigma'(x_2 * y_1) * x_2 & \\sigma'(x_3 * y_1) * x_3 & \\ldots & \\sigma'(x_5 * y_1) * x_5\\\\\n",
    "\\sigma'(x_1 * y_2) * x_1 & \\sigma'(x_2 * y_2) * x_2 & \\sigma'(x_3 * y_2) * x_3 & \\ldots & \\sigma'(x_5 * y_2) * x_5\\\\\n",
    "\\sigma'(x_1 * y_3) * x_1 & \\sigma'(x_2 * y_3) * x_2 & \\sigma'(x_3 * y_3) * x_3 & \\ldots & \\sigma'(x_5 * y_3) * x_5\\\\\n",
    "\\vdots & \\vdots & \\vdots & \\ddots & \\vdots\\\\\n",
    "\\sigma'(x_1 * y_5) * x_1 & \\sigma'(x_2 * y_5) * x_2 & \\sigma'(x_3 * y_5) * x_3 & \\ldots & \\sigma'(x_5 * y_5) * x_5\\\\\n",
    "\\end{bmatrix} \\\\ \n",
    "=& \\begin{bmatrix}x_1 & x_2 & x_3 & \\ldots & x_n\\end{bmatrix} \\cdot \n",
    "\\begin{bmatrix}\\sigma'(x_1 * y_1) & \\sigma'(x_2 * y_1) & \\sigma'(x_3 * y_1) & \\ldots & \\sigma'(x_n * y_1)\\\\\n",
    "\\sigma'(x_1 * y_2) & \\sigma'(x_2 * y_2) & \\sigma'(x_3 * y_2) & \\ldots & \\sigma'(x_n * y_2)\\\\\n",
    "\\sigma'(x_1 * y_3) & \\sigma'(x_2 * y_3) & \\sigma'(x_3 * y_3) & \\ldots & \\sigma'(x_n * y_3)\\\\\n",
    "\\vdots & \\vdots & \\vdots & \\ddots & \\vdots\\\\\n",
    "\\sigma'(x_1 * y_n) & \\sigma'(x_2 * y_n) & \\sigma'(x_3 * y_n) & \\ldots & \\sigma'(x_n * y_n)\\\\\n",
    "\\end{bmatrix} \\\\ =&\n",
    "X \\cdot \\begin{bmatrix} \\sigma'(x_1 * y_1) & \\sigma'(x_2 * y_1) & \\sigma'(x_3 * y_1) & \\ldots & \\sigma'(x_n * y_1)\\\\\n",
    "\\sigma'(x_1 * y_2) & \\sigma'(x_2 * y_2) & \\sigma'(x_3 * y_2) & \\ldots & \\sigma'(x_n * y_2)\\\\\n",
    "\\sigma'(x_1 * y_3) & \\sigma'(x_2 * y_3) & \\sigma'(x_3 * y_3) & \\ldots & \\sigma'(x_n * y_3)\\\\\n",
    "\\vdots & \\vdots & \\vdots & \\ddots & \\vdots\\\\\n",
    "\\sigma'(x_1 * y_n) & \\sigma'(x_2 * y_n) & \\sigma'(x_3 * y_n) & \\ldots & \\sigma'(x_n * y_n)\\\\\n",
    "\\end{bmatrix}  \n",
    "\\end{align} $$"
   ]
  },
  {
   "cell_type": "markdown",
   "metadata": {},
   "source": [
    "### Slice of result"
   ]
  },
  {
   "cell_type": "markdown",
   "metadata": {},
   "source": [
    "$$ \\begin{bmatrix}\\sigma(x_1 * y_{155}) & \\sigma(x_2 * y_{155}) & \\sigma(x_3 * y_{155}) & \\ldots & \\sigma(x_{n}, y_{155})\\end{bmatrix} $$\n",
    "\n",
    "and \n",
    "\n",
    "$$ \\frac{\\partial Z}{\\partial X}_{155} = \\begin{bmatrix}\\sigma'(x_1 * y_{155}) * y_{155} &\n",
    "\\sigma'(x_2 * y_{155}) * y_{155} & \\sigma'(x_3 * y_{155}) * y_{155} & \\ldots & \\sigma'(x_{n} * y_{155}) * y_{155}\\end{bmatrix} $$\n",
    "\n"
   ]
  },
  {
   "cell_type": "markdown",
   "metadata": {},
   "source": [
    "### Complicated function"
   ]
  },
  {
   "cell_type": "markdown",
   "metadata": {},
   "source": [
    "$$\n",
    "\\begin{align}\n",
    "E =& e(X) \\\\\n",
    "F =& f(E) \\\\\n",
    "G =& g(Y) \\\\\n",
    "H =& h(G) \\\\\n",
    "F + H =& I \\\\\n",
    "j(I) =& J \\\\\n",
    "K(I) =& K \\\\\n",
    "\\end{align}\n",
    "$$"
   ]
  },
  {
   "cell_type": "markdown",
   "metadata": {},
   "source": [
    "### Matrix factorization of complicated function"
   ]
  },
  {
   "cell_type": "markdown",
   "metadata": {},
   "source": [
    "$$\n",
    "\\begin{align}\n",
    "\\frac{\\partial K}{\\partial Y} =&\n",
    "\\begin{bmatrix}K'(F(x_1) + H(y_1)) * H'(y_1) & K'(F(x_2) + H(y_1)) * H'(y_1) & K'(F(x_3) + H(y_1)) * H'(y_1) & \\ldots & K'(F(x_n) + H(y_1)) * H'(y_1)\\\\\n",
    "K'(F(x_1) + H(y_2)) * H'(y_2) & K'(F(x_2) + H(y_2)) * H'(y_2) & K'(F(x_3) + H(y_2)) * H'(y_2) & \\ldots & K'(F(x_n) + H(y_2)) * H'(y_2)\\\\\n",
    "K'(F(x_1) + H(y_3)) * H'(y_3) & K'(F(x_2) + H(y_3)) * H'(y_3) & K'(F(x_3) + H(y_3)) * H'(y_3) & \\ldots & K'(F(x_n) + H(y_3)) * H'(y_3)\\\\\n",
    "\\vdots & \\vdots & \\vdots & \\ddots & \\vdots\\\\\n",
    "K'(F(x_1) + H(y_n)) * H'(y_n) & K'(F(x_2) + H(y_n)) * H'(y_n) & K'(F(x_3) + H(y_n)) * H'(y_n) & \\ldots & K'(F(x_n) + H(y_n)) * H'(y_n)\\\\\n",
    "\\end{bmatrix}\\\\\n",
    " =&\n",
    "\\begin{bmatrix}H'(y_1) \\\\ H'(y_2) \\\\ H'(y_3) \\\\ \\ldots \\\\ H'(y_n)\\end{bmatrix} \\cdot\n",
    "\\begin{bmatrix}\n",
    "K'(F(x_1) + H(y_1)) & K'(F(x_2) + H(y_1)) & K'(F(x_3) + H(y_1)) & \\ldots & K'(F(x_n) + H(y_1))\\\\\n",
    "K'(F(x_1) + H(y_2)) & K'(F(x_2) + H(y_2)) & K'(F(x_3) + H(y_2)) & \\ldots & K'(F(x_n) + H(y_2))\\\\\n",
    "K'(F(x_1) + H(y_3)) & K'(F(x_2) + H(y_3)) & K'(F(x_3) + H(y_3)) & \\ldots & K'(F(x_n) + H(y_3))\\\\\n",
    "\\vdots & \\vdots & \\vdots & \\ddots & \\vdots\\\\\n",
    "K'(F(x_1) + H(y_n)) & K'(F(x_2) + H(y_n)) & K'(F(x_3) + H(y_n)) & \\ldots & K'(F(x_n) + H(y_n))\\\\\n",
    "\\end{bmatrix}\n",
    "\\end{align}$$"
   ]
  },
  {
   "cell_type": "code",
   "execution_count": null,
   "metadata": {},
   "outputs": [],
   "source": []
  }
 ],
 "metadata": {
  "kernelspec": {
   "display_name": "Python [default]",
   "language": "python",
   "name": "python3"
  },
  "language_info": {
   "codemirror_mode": {
    "name": "ipython",
    "version": 3
   },
   "file_extension": ".py",
   "mimetype": "text/x-python",
   "name": "python",
   "nbconvert_exporter": "python",
   "pygments_lexer": "ipython3",
   "version": "3.6.4"
  }
 },
 "nbformat": 4,
 "nbformat_minor": 2
}
