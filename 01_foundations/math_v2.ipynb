{
 "cells": [
  {
   "cell_type": "markdown",
   "metadata": {},
   "source": [
    "$$ f'(x) $$ a function\n",
    "\n",
    "$$ f'(a) $$ a number when $f$ is a function of one variable\n",
    "\n",
    "$$ (a) $$ a number when $f$ is a function of one variable"
   ]
  },
  {
   "cell_type": "markdown",
   "metadata": {},
   "source": [
    "$$ \\frac{df}{dx}(a) = \n",
    "\\lim_{\\Delta \\to 0} \\frac{{f \\left( {a + \\Delta } \\right) - f\\left( a - \\Delta \\right)}}{2 * \\Delta } $$\n",
    "\n",
    "$$ \\frac = \n",
    "\\lim_{\\Delta \\to 0} \\frac{{f \\left( {a + \\Delta } \\right) - f\\left( a - \\Delta \\right)}}{2 * \\Delta } $$"
   ]
  },
  {
   "cell_type": "markdown",
   "metadata": {},
   "source": [
    "$$ f_2(f_1(x)) = y $$\n",
    "\n",
    "$$ f_1(x) = u $$\n",
    "\n",
    "$$ \\frac{df_2}{dx}(x) = \\frac{df_2}{du}(f_1(x)) * \\frac{df_1}{dx}(x) $$"
   ]
  },
  {
   "cell_type": "markdown",
   "metadata": {},
   "source": [
    "$$ \\frac{df_3}{dx}(x) = \\frac{df_3}{dv}(f_2(f_1(x))) * \\frac{df_2}{du}(f_1(x)) * \\frac{df_1}{dx}(x) $$"
   ]
  },
  {
   "cell_type": "markdown",
   "metadata": {},
   "source": [
    "$$ \\frac{df}{dx}\\bigr\\rvert_{x=a} = \n",
    "\\lim_{\\Delta \\to 0} \\frac{{f \\left( {a + \\Delta } \\right) - f\\left( a - \\Delta \\right)}}{2 * \\Delta } $$"
   ]
  },
  {
   "cell_type": "markdown",
   "metadata": {},
   "source": [
    "## Function with multiple inputs"
   ]
  },
  {
   "cell_type": "markdown",
   "metadata": {},
   "source": [
    "$$ f(x, y) = s$$\n",
    "\n",
    "$$ a = a(x, y) = x + y $$\n",
    "\n",
    "$$ s = \\sigma(a) $$"
   ]
  },
  {
   "cell_type": "markdown",
   "metadata": {},
   "source": [
    "$$ f(x, y) = s(a(x, y)) $$\n",
    "\n",
    "$$ \\frac{\\partial f}{\\partial x} = \\frac{\\partial \\sigma}{\\partial u}(a(x, y)) * \\frac{\\partial a}{\\partial x}((x, y)) \\\\ = \\frac{\\partial \\sigma}{\\partial u}(x + y) * \\frac{\\partial a}{\\partial x}((x, y))$$"
   ]
  },
  {
   "cell_type": "markdown",
   "metadata": {},
   "source": [
    "### X and Y vectors"
   ]
  },
  {
   "cell_type": "markdown",
   "metadata": {},
   "source": [
    "$$ X = \\begin{bmatrix}x_1 & x_2 & x_3\\end{bmatrix} $$\n",
    "\n",
    "$$ W = \\begin{bmatrix}w_1\\\\w_2\\\\w_3\\end{bmatrix} $$\n",
    "\n",
    "$$ B = \\begin{bmatrix}b\\end{bmatrix} $$\n",
    "\n",
    "$$ N = \\nu(X, W, B) \\\\ = X * W + B = x_1 * w_1 + x_2 * w_2 + x_3 * w_3 + b $$"
   ]
  },
  {
   "cell_type": "markdown",
   "metadata": {},
   "source": [
    "$$ \\frac{\\partial N}{\\partial X} = \\begin{bmatrix}\\frac{\\partial N}{\\partial x_1} & \\frac{\\partial N}{\\partial x_2} & \\frac{\\partial N}{\\partial x_3}\\end{bmatrix} $$\n",
    "\n",
    "$$ W = \\begin{bmatrix}w_1\\\\w_2\\\\w_3\\end{bmatrix} $$\n",
    "\n",
    "$$ B = \\begin{bmatrix}b\\end{bmatrix} $$\n",
    "\n",
    "$$ N = \\nu(X, W, B) \\\\ = X * W + B = x_1 * w_1 + x_2 * w_2 + x_3 * w_3 + b $$\n",
    "\n",
    "$$ \\frac{\\partial f}{\\partial X} = \\frac{\\partial \\sigma}{\\partial u}(\\nu(X, W, B)) * \\frac{\\partial \\nu}{\\partial X}((X, W, B)) \\\\ = \\frac{\\partial \\sigma}{\\partial u}(x_1 * w_1 + x_2 * w_2 + x_3 * w_3 + b_1) * W^T $$"
   ]
  },
  {
   "cell_type": "markdown",
   "metadata": {},
   "source": []
  },
  {
   "cell_type": "markdown",
   "metadata": {},
   "source": [
    "### M definition"
   ]
  },
  {
   "cell_type": "markdown",
   "metadata": {},
   "source": [
    "$$ \n",
    "M = \\mu\\left(X, Y\\right) = \n",
    "\\begin{bmatrix}\n",
    "x_1 * y_1 & x_2 * y_1 & x_3 * y_1\\\\\n",
    "x_1 * y_2 & x_2 * y_2 & x_3 * y_2\\\\\n",
    "x_1 * y_3 & x_2 * y_3 & x_3 * y_3\n",
    "\\end{bmatrix}$$"
   ]
  },
  {
   "cell_type": "markdown",
   "metadata": {},
   "source": [
    "$$ \n",
    "A = \\alpha(X, Y) =\n",
    "\\alpha(\\begin{bmatrix}x_1 & x_2 & x_3\\end{bmatrix}, \\begin{bmatrix}y_1\\\\y_2\\\\y_3\\end{bmatrix}) =\n",
    "\\begin{bmatrix}\n",
    "x_1 + y_1 & x_2 + y_1 & x_3 + y_1\\\\\n",
    "x_1 + y_2 & x_2 + y_2 & x_3 + y_2\\\\\n",
    "x_1 + y_3 & x_2 + y_3 & x_3 + y_3\n",
    "\\end{bmatrix}$$"
   ]
  },
  {
   "cell_type": "markdown",
   "metadata": {},
   "source": [
    "### Z definition"
   ]
  },
  {
   "cell_type": "markdown",
   "metadata": {},
   "source": [
    "$$ Z \n",
    "= \\sigma(M) \n",
    "= \\begin{bmatrix}\\sigma(\\mu(x_1, y_1) & \\sigma(\\mu(x_2, y_1)) & \\sigma(\\mu(x_3, y_1))\\\\\n",
    "\\sigma(\\mu(x_1, y_2)) & \\sigma(\\mu(x_2, y_2)) & \\sigma(\\mu(x_3, y_2))\\\\\n",
    "\\sigma(\\mu(x_1, y_3)) & \\sigma(\\mu(x_2, y_3)) & \\sigma(\\mu(x_3, y_3))\\\\\n",
    "\\end{bmatrix} = \n",
    "\\begin{bmatrix}\n",
    "\\sigma(x_1 * y_1) & \\sigma(x_2 * y_1) & \\sigma(x_3 * y_1)\\\\\n",
    "\\sigma(x_1 * y_2) & \\sigma(x_2 * y_2) & \\sigma(x_3 * y_2)\\\\\n",
    "\\sigma(x_1 * y_3) & \\sigma(x_2 * y_3) & \\sigma(x_3 * y_3)\\\\\n",
    "\\end{bmatrix} $$"
   ]
  },
  {
   "cell_type": "markdown",
   "metadata": {},
   "source": [
    "$$ Z = f(X, Y) = \\begin{bmatrix}\n",
    "f(x_1, y_1) & f(x_2, y_1) & f(x_3, y_1)\\\\\n",
    "f(x_1, y_2) & f(x_2, y_2) & f(x_3, y_2)\\\\\n",
    "f(x_1, y_3) & f(x_2, y_3) & f(x_3, y_3)\\\\\n",
    "\\end{bmatrix} $$"
   ]
  },
  {
   "cell_type": "markdown",
   "metadata": {},
   "source": [
    "### Partial f partial x definition"
   ]
  },
  {
   "cell_type": "markdown",
   "metadata": {},
   "source": [
    "$$ f(X, Y) = \\sigma(\\mu(X, Y)) $$\n",
    "\n",
    "$$ \\frac{\\partial f}{\\partial X} = \\frac{\\partial \\sigma}{\\partial m}(m) * \\frac{\\partial \\mu}{\\partial x}(x, y) $$\n",
    "\n",
    "$$ \\frac{\\partial f}{\\partial x} = \\frac{\\partial \\sigma}{\\partial m}(x * y) * y $$"
   ]
  },
  {
   "cell_type": "markdown",
   "metadata": {},
   "source": [
    "$$ \\begin{align}\n",
    "\\frac{\\partial f}{\\partial X} =& \n",
    "\\begin{bmatrix}\n",
    "\\frac{\\partial \\sigma}{\\partial u}(x_1 * y_1) * \\frac{\\partial \\mu}{\\partial x}(x_1, y_1) & \n",
    "\\frac{\\partial \\sigma}{\\partial u}(x_2 * y_1) * \\frac{\\partial \\mu}{\\partial x}(x_2, y_1) & \n",
    "\\frac{\\partial \\sigma}{\\partial u}(x_3 * y_1) * \\frac{\\partial \\mu}{\\partial x}(x_3, y_1) \\\\\n",
    "\\frac{\\partial \\sigma}{\\partial u}(x_1 * y_2) * \\frac{\\partial \\mu}{\\partial x}(x_1, y_2) & \n",
    "\\frac{\\partial \\sigma}{\\partial u}(x_2 * y_2) * \\frac{\\partial \\mu}{\\partial x}(x_2, y_2) & \n",
    "\\frac{\\partial \\sigma}{\\partial u}(x_3 * y_2) * \\frac{\\partial \\mu}{\\partial x}(x_3, y_2) \\\\\n",
    "\\frac{\\partial \\sigma}{\\partial u}(x_1 * y_3) * \\frac{\\partial \\mu}{\\partial x}(x_1, y_3) & \n",
    "\\frac{\\partial \\sigma}{\\partial u}(x_2 * y_3) * \\frac{\\partial \\mu}{\\partial x}(x_2, y_3) & \n",
    "\\frac{\\partial \\sigma}{\\partial u}(x_3 * y_3) * \\frac{\\partial \\mu}{\\partial x}(x_3, y_3) \\\\\n",
    "\\end{bmatrix}\\\\\n",
    "=& \n",
    "\\begin{bmatrix}\n",
    "\\frac{\\partial \\sigma}{\\partial u}(x_1 * y_1) * y_1 & \n",
    "\\frac{\\partial \\sigma}{\\partial u}(x_2 * y_1) * y_1 & \n",
    "\\frac{\\partial \\sigma}{\\partial u}(x_3 * y_1) * y_1 \\\\\n",
    "\\frac{\\partial \\sigma}{\\partial u}(x_1 * y_2) * y_2 & \n",
    "\\frac{\\partial \\sigma}{\\partial u}(x_2 * y_2) * y_2 & \n",
    "\\frac{\\partial \\sigma}{\\partial u}(x_3 * y_2) * y_2 \\\\\n",
    "\\frac{\\partial \\sigma}{\\partial u}(x_1 * y_3) * y_3 & \n",
    "\\frac{\\partial \\sigma}{\\partial u}(x_2 * y_3) * y_3 & \n",
    "\\frac{\\partial \\sigma}{\\partial u}(x_3 * y_3) * y_3 \\\\\n",
    "\\end{bmatrix}\n",
    "\\end{align} $$"
   ]
  },
  {
   "cell_type": "markdown",
   "metadata": {},
   "source": [
    "$$ \\begin{align}\n",
    "\\frac{\\partial f}{\\partial X} =& \n",
    "\\begin{bmatrix}\n",
    "\\frac{\\partial \\sigma}{\\partial u}(x_1 * y_1) * \\frac{\\partial \\mu}{\\partial x}(x_1, y_1) & \n",
    "\\frac{\\partial \\sigma}{\\partial u}(x_2 * y_1) * \\frac{\\partial \\mu}{\\partial x}(x_2, y_1) & \n",
    "\\frac{\\partial \\sigma}{\\partial u}(x_3 * y_1) * \\frac{\\partial \\mu}{\\partial x}(x_3, y_1) \\\\\n",
    "\\frac{\\partial \\sigma}{\\partial u}(x_1 * y_2) * \\frac{\\partial \\mu}{\\partial x}(x_1, y_2) & \n",
    "\\frac{\\partial \\sigma}{\\partial u}(x_2 * y_2) * \\frac{\\partial \\mu}{\\partial x}(x_2, y_2) & \n",
    "\\frac{\\partial \\sigma}{\\partial u}(x_3 * y_2) * \\frac{\\partial \\mu}{\\partial x}(x_3, y_2) \\\\\n",
    "\\frac{\\partial \\sigma}{\\partial u}(x_1 * y_3) * \\frac{\\partial \\mu}{\\partial x}(x_1, y_3) & \n",
    "\\frac{\\partial \\sigma}{\\partial u}(x_2 * y_3) * \\frac{\\partial \\mu}{\\partial x}(x_2, y_3) & \n",
    "\\frac{\\partial \\sigma}{\\partial u}(x_3 * y_3) * \\frac{\\partial \\mu}{\\partial x}(x_3, y_3) \\\\\n",
    "\\end{bmatrix}\\\\\n",
    "=& \n",
    "\\begin{bmatrix}\n",
    "\\frac{\\partial \\sigma}{\\partial u}(x_1 * y_1) * y_1 & \n",
    "\\frac{\\partial \\sigma}{\\partial u}(x_2 * y_1) * y_1 & \n",
    "\\frac{\\partial \\sigma}{\\partial u}(x_3 * y_1) * y_1 \\\\\n",
    "\\frac{\\partial \\sigma}{\\partial u}(x_1 * y_2) * y_2 & \n",
    "\\frac{\\partial \\sigma}{\\partial u}(x_2 * y_2) * y_2 & \n",
    "\\frac{\\partial \\sigma}{\\partial u}(x_3 * y_2) * y_2 \\\\\n",
    "\\frac{\\partial \\sigma}{\\partial u}(x_1 * y_3) * y_3 & \n",
    "\\frac{\\partial \\sigma}{\\partial u}(x_2 * y_3) * y_3 & \n",
    "\\frac{\\partial \\sigma}{\\partial u}(x_3 * y_3) * y_3 \\\\\n",
    "\\end{bmatrix}\\\\\n",
    "=& \\begin{bmatrix}y_1 \\\\ y_2 \\\\ y_3\\end{bmatrix} \\cdot\n",
    "\\begin{bmatrix}\n",
    "\\frac{\\partial \\sigma}{\\partial u}(x_1 * y_1) & \n",
    "\\frac{\\partial \\sigma}{\\partial u}(x_2 * y_1) & \n",
    "\\frac{\\partial \\sigma}{\\partial u}(x_3 * y_1) \\\\\n",
    "\\frac{\\partial \\sigma}{\\partial u}(x_1 * y_2) & \n",
    "\\frac{\\partial \\sigma}{\\partial u}(x_2 * y_2) & \n",
    "\\frac{\\partial \\sigma}{\\partial u}(x_3 * y_2) \\\\\n",
    "\\frac{\\partial \\sigma}{\\partial u}(x_1 * y_3) & \n",
    "\\frac{\\partial \\sigma}{\\partial u}(x_2 * y_3) & \n",
    "\\frac{\\partial \\sigma}{\\partial u}(x_3 * y_3) \\\\\n",
    "\\end{bmatrix} \\\\\n",
    "=& Y \\cdot \\frac{\\partial \\sigma}{\\partial u}(M)\n",
    "\\end{align} $$"
   ]
  },
  {
   "cell_type": "markdown",
   "metadata": {},
   "source": [
    "$$ \\begin{align}\n",
    "\\frac{\\partial f}{\\partial Y} =& \n",
    "\\begin{bmatrix}\n",
    "\\frac{\\partial \\sigma}{\\partial u}(x_1 * y_1) * \\frac{\\partial \\mu}{\\partial y}(x_1, y_1) & \n",
    "\\frac{\\partial \\sigma}{\\partial u}(x_2 * y_1) * \\frac{\\partial \\mu}{\\partial y}(x_2, y_1) & \n",
    "\\frac{\\partial \\sigma}{\\partial u}(x_3 * y_1) * \\frac{\\partial \\mu}{\\partial y}(x_3, y_1) \\\\\n",
    "\\frac{\\partial \\sigma}{\\partial u}(x_1 * y_2) * \\frac{\\partial \\mu}{\\partial y}(x_1, y_2) & \n",
    "\\frac{\\partial \\sigma}{\\partial u}(x_2 * y_2) * \\frac{\\partial \\mu}{\\partial y}(x_2, y_2) & \n",
    "\\frac{\\partial \\sigma}{\\partial u}(x_3 * y_2) * \\frac{\\partial \\mu}{\\partial y}(x_3, y_2) \\\\\n",
    "\\frac{\\partial \\sigma}{\\partial u}(x_1 * y_3) * \\frac{\\partial \\mu}{\\partial y}(x_1, y_3) & \n",
    "\\frac{\\partial \\sigma}{\\partial u}(x_2 * y_3) * \\frac{\\partial \\mu}{\\partial y}(x_2, y_3) & \n",
    "\\frac{\\partial \\sigma}{\\partial u}(x_3 * y_3) * \\frac{\\partial \\mu}{\\partial y}(x_3, y_3) \\\\\n",
    "\\end{bmatrix}\\\\\n",
    "=& \n",
    "\\begin{bmatrix}\n",
    "\\frac{\\partial \\sigma}{\\partial u}(x_1 * y_1) * x_1 & \n",
    "\\frac{\\partial \\sigma}{\\partial u}(x_2 * y_1) * x_2 & \n",
    "\\frac{\\partial \\sigma}{\\partial u}(x_3 * y_1) * x_3 \\\\\n",
    "\\frac{\\partial \\sigma}{\\partial u}(x_1 * y_2) * x_1 & \n",
    "\\frac{\\partial \\sigma}{\\partial u}(x_2 * y_2) * x_2 & \n",
    "\\frac{\\partial \\sigma}{\\partial u}(x_3 * y_2) * x_3 \\\\\n",
    "\\frac{\\partial \\sigma}{\\partial u}(x_1 * y_3) * x_1 & \n",
    "\\frac{\\partial \\sigma}{\\partial u}(x_2 * y_3) * x_2 & \n",
    "\\frac{\\partial \\sigma}{\\partial u}(x_3 * y_3) * x_3 \\\\\n",
    "\\end{bmatrix}\\\\\n",
    "=& \\begin{bmatrix}x_1 & x_2 & x_3\\end{bmatrix} \\cdot\n",
    "\\begin{bmatrix}\n",
    "\\frac{\\partial \\sigma}{\\partial u}(x_1 * y_1) & \n",
    "\\frac{\\partial \\sigma}{\\partial u}(x_2 * y_1) & \n",
    "\\frac{\\partial \\sigma}{\\partial u}(x_3 * y_1) \\\\\n",
    "\\frac{\\partial \\sigma}{\\partial u}(x_1 * y_2) & \n",
    "\\frac{\\partial \\sigma}{\\partial u}(x_2 * y_2) & \n",
    "\\frac{\\partial \\sigma}{\\partial u}(x_3 * y_2) \\\\\n",
    "\\frac{\\partial \\sigma}{\\partial u}(x_1 * y_3) & \n",
    "\\frac{\\partial \\sigma}{\\partial u}(x_2 * y_3) & \n",
    "\\frac{\\partial \\sigma}{\\partial u}(x_3 * y_3) \\\\\n",
    "\\end{bmatrix} \\\\\n",
    "=& X \\cdot \\frac{\\partial \\sigma}{\\partial u}(M)\n",
    "\\end{align} $$"
   ]
  },
  {
   "cell_type": "markdown",
   "metadata": {},
   "source": [
    "$$ \\begin{align}\n",
    "\\frac{\\partial f}{\\partial X} \n",
    "=& \\begin{bmatrix}\\sigma'(x_1 * y_1) * y_1 & \\sigma'(x_2 * y_1) * y_1 & \\sigma'(x_3 * y_1) * y_1 & \\ldots & \\sigma'(x_5 * y_1) * y_1\\\\\n",
    "                      \\sigma'(x_1 * y_2) * y_2 & \\sigma'(x_2 * y_2) * y_2 & \\sigma'(x_3 * y_2) * y_2 & \\ldots & \\sigma'(x_5 * y_2) * y_2\\\\\n",
    "                      \\sigma'(x_1 * y_3) * y_3 & \\sigma'(x_2 * y_3) * y_3 & \\sigma'(x_3 * y_3) * y_3 & \\ldots & \\sigma'(x_5 * y_3) * y_3\\\\\n",
    "                      \\vdots & \\vdots & \\vdots & \\ddots & \\vdots\\\\\n",
    "                      \\sigma'(x_1 * y_5) * y_5 & \\sigma'(x_2 * y_5) * y_5 & \\sigma'(x_3 * y_5) * y_5 & \\ldots & \\sigma'(x_5 * y_5) * y_5\\\\\n",
    "                      \\end{bmatrix} \\\\ =&\n",
    "\\begin{bmatrix}y_1 \\\\ y_2 \\\\ y_3 \\\\ \\vdots \\\\ y_n\\end{bmatrix} *\n",
    "\\begin{bmatrix}\\sigma'(x_1 * y_1) & \\sigma'(x_2 * y_1) & \\sigma'(x_3 * y_1) & \\ldots & \\sigma'(x_n * y_1)\\\\\n",
    "\\sigma'(x_1 * y_2) & \\sigma'(x_2 * y_2) & \\sigma'(x_3 * y_2) & \\ldots & \\sigma'(x_n * y_2)\\\\\n",
    "\\sigma'(x_1 * y_3) & \\sigma'(x_2 * y_3) & \\sigma'(x_3 * y_3) & \\ldots & \\sigma'(x_n * y_3)\\\\\n",
    "\\vdots & \\vdots & \\vdots & \\ddots & \\vdots\\\\\n",
    "\\sigma'(x_1 * y_n) & \\sigma'(x_2 * y_n) & \\sigma'(x_3 * y_n) & \\ldots & \\sigma'(x_n * y_n)\\\\\n",
    "\\end{bmatrix}\\\\\n",
    " =& Y *\n",
    "\\begin{bmatrix}\\sigma'(x_1 * y_1) & \\sigma'(x_2 * y_1) & \\sigma'(x_3 * y_1) & \\ldots & \\sigma'(x_n * y_1)\\\\\n",
    "                      \\sigma'(x_1 * y_2) & \\sigma'(x_2 * y_2) & \\sigma'(x_3 * y_2) & \\ldots & \\sigma'(x_n * y_2)\\\\\n",
    "                      \\sigma'(x_1 * y_3) & \\sigma'(x_2 * y_3) & \\sigma'(x_3 * y_3) & \\ldots & \\sigma'(x_n * y_3)\\\\\n",
    "                      \\vdots & \\vdots & \\vdots & \\ddots & \\vdots\\\\\n",
    "                      \\sigma'(x_1 * y_n) & \\sigma'(x_2 * y_n) & \\sigma'(x_3 * y_n) & \\ldots & \\sigma'(x_n * y_5)\\\\\n",
    "                      \\end{bmatrix}                      \n",
    "\\end{align} $$"
   ]
  },
  {
   "cell_type": "markdown",
   "metadata": {},
   "source": [
    "$$ \\begin{align}\n",
    "\\frac{\\partial f}{\\partial Y} =& \n",
    "\\begin{bmatrix}\n",
    "\\frac{\\partial \\sigma}{\\partial \\mu}\\bigr\\rvert_{(\\mu(x_1, y_1))} * \\frac{\\partial \\mu}{\\partial y}\\bigr\\rvert_{(x_1, y_1)} & \n",
    "\\frac{\\partial \\sigma}{\\partial \\mu}\\bigr\\rvert_{(\\mu(x_2, y_1))} * \\frac{\\partial \\mu}{\\partial y}\\bigr\\rvert_{(x_2, y_1)} & \n",
    "\\frac{\\partial \\sigma}{\\partial \\mu}\\bigr\\rvert_{(\\mu(x_3, y_1))} * \\frac{\\partial \\mu}{\\partial y}\\bigr\\rvert_{(x_3, y_1)} & \\ldots & \n",
    "\\frac{\\partial \\sigma}{\\partial \\mu}\\bigr\\rvert_{(\\mu(x_n, y_1))} * \\frac{\\partial \\mu}{\\partial y}\\bigr\\rvert_{(x_n, y_1)} \\\\\n",
    "\\frac{\\partial \\sigma}{\\partial \\mu}\\bigr\\rvert_{(\\mu(x_1, y_2))} * \\frac{\\partial \\mu}{\\partial y}\\bigr\\rvert_{(x_1, y_2)} & \n",
    "\\frac{\\partial \\sigma}{\\partial \\mu}\\bigr\\rvert_{(\\mu(x_2, y_2))} * \\frac{\\partial \\mu}{\\partial y}\\bigr\\rvert_{(x_2, y_2)} & \n",
    "\\frac{\\partial \\sigma}{\\partial \\mu}\\bigr\\rvert_{(\\mu(x_3, y_2))} * \\frac{\\partial \\mu}{\\partial y}\\bigr\\rvert_{(x_3, y_2)} & \\ldots & \n",
    "\\frac{\\partial \\sigma}{\\partial \\mu}\\bigr\\rvert_{(\\mu(x_n, y_2))} * \\frac{\\partial \\mu}{\\partial y}\\bigr\\rvert_{(x_n, y_2)} \\\\\n",
    "\\frac{\\partial \\sigma}{\\partial \\mu}\\bigr\\rvert_{(\\mu(x_1, y_3))} * \\frac{\\partial \\mu}{\\partial y}\\bigr\\rvert_{(x_1, y_3)} & \n",
    "\\frac{\\partial \\sigma}{\\partial \\mu}\\bigr\\rvert_{(\\mu(x_2, y_3))} * \\frac{\\partial \\mu}{\\partial y}\\bigr\\rvert_{(x_2, y_3)} & \n",
    "\\frac{\\partial \\sigma}{\\partial \\mu}\\bigr\\rvert_{(\\mu(x_3, y_3))} * \\frac{\\partial \\mu}{\\partial y}\\bigr\\rvert_{(x_3, y_3)} & \\ldots & \n",
    "\\frac{\\partial \\sigma}{\\partial \\mu}\\bigr\\rvert_{(\\mu(x_3, y_3))} * \\frac{\\partial \\mu}{\\partial y}\\bigr\\rvert_{(x_n, y_3)} \\\\\n",
    "\\vdots & \\vdots & \\vdots & \\ddots & \\vdots\\\\\n",
    "\\frac{\\partial \\sigma}{\\partial \\mu}\\bigr\\rvert_{(\\mu(x_1, y_n))} * \\frac{\\partial \\mu}{\\partial y}\\bigr\\rvert_{(x_1, y_n)} & \n",
    "\\frac{\\partial \\sigma}{\\partial \\mu}\\bigr\\rvert_{(\\mu(x_2, y_n))} * \\frac{\\partial \\mu}{\\partial y}\\bigr\\rvert_{(x_2, y_n)} & \n",
    "\\frac{\\partial \\sigma}{\\partial \\mu}\\bigr\\rvert_{(\\mu(x_3, y_n))} * \\frac{\\partial \\mu}{\\partial y}\\bigr\\rvert_{(x_3, y_n)} & \\ldots & \n",
    "\\frac{\\partial \\sigma}{\\partial \\mu}\\bigr\\rvert_{(\\mu(x_3, y_n))} * \\frac{\\partial \\mu}{\\partial y}\\bigr\\rvert_{(x_n, y_n)} \\\\\n",
    "\\end{bmatrix}\\\\ \n",
    "=& \\begin{bmatrix}\n",
    "\\sigma'(x_1 * y_1) * x_1 & \\sigma'(x_2 * y_1) * x_2 & \\sigma'(x_3 * y_1) * x_3 & \\ldots & \\sigma'(x_5 * y_1) * x_5\\\\\n",
    "\\sigma'(x_1 * y_2) * x_1 & \\sigma'(x_2 * y_2) * x_2 & \\sigma'(x_3 * y_2) * x_3 & \\ldots & \\sigma'(x_5 * y_2) * x_5\\\\\n",
    "\\sigma'(x_1 * y_3) * x_1 & \\sigma'(x_2 * y_3) * x_2 & \\sigma'(x_3 * y_3) * x_3 & \\ldots & \\sigma'(x_5 * y_3) * x_5\\\\\n",
    "\\vdots & \\vdots & \\vdots & \\ddots & \\vdots\\\\\n",
    "\\sigma'(x_1 * y_5) * x_1 & \\sigma'(x_2 * y_5) * x_2 & \\sigma'(x_3 * y_5) * x_3 & \\ldots & \\sigma'(x_5 * y_5) * x_5\\\\\n",
    "\\end{bmatrix} \\\\ \n",
    "=& \\begin{bmatrix}x_1 & x_2 & x_3 & \\ldots & x_n\\end{bmatrix} \\cdot \n",
    "\\begin{bmatrix}\\sigma'(x_1 * y_1) & \\sigma'(x_2 * y_1) & \\sigma'(x_3 * y_1) & \\ldots & \\sigma'(x_n * y_1)\\\\\n",
    "\\sigma'(x_1 * y_2) & \\sigma'(x_2 * y_2) & \\sigma'(x_3 * y_2) & \\ldots & \\sigma'(x_n * y_2)\\\\\n",
    "\\sigma'(x_1 * y_3) & \\sigma'(x_2 * y_3) & \\sigma'(x_3 * y_3) & \\ldots & \\sigma'(x_n * y_3)\\\\\n",
    "\\vdots & \\vdots & \\vdots & \\ddots & \\vdots\\\\\n",
    "\\sigma'(x_1 * y_n) & \\sigma'(x_2 * y_n) & \\sigma'(x_3 * y_n) & \\ldots & \\sigma'(x_n * y_n)\\\\\n",
    "\\end{bmatrix} \\\\ =&\n",
    "X \\cdot \\begin{bmatrix} \\sigma'(x_1 * y_1) & \\sigma'(x_2 * y_1) & \\sigma'(x_3 * y_1) & \\ldots & \\sigma'(x_n * y_1)\\\\\n",
    "\\sigma'(x_1 * y_2) & \\sigma'(x_2 * y_2) & \\sigma'(x_3 * y_2) & \\ldots & \\sigma'(x_n * y_2)\\\\\n",
    "\\sigma'(x_1 * y_3) & \\sigma'(x_2 * y_3) & \\sigma'(x_3 * y_3) & \\ldots & \\sigma'(x_n * y_3)\\\\\n",
    "\\vdots & \\vdots & \\vdots & \\ddots & \\vdots\\\\\n",
    "\\sigma'(x_1 * y_n) & \\sigma'(x_2 * y_n) & \\sigma'(x_3 * y_n) & \\ldots & \\sigma'(x_n * y_n)\\\\\n",
    "\\end{bmatrix}  \n",
    "\\end{align} $$"
   ]
  },
  {
   "cell_type": "markdown",
   "metadata": {},
   "source": [
    "### Slice of result"
   ]
  },
  {
   "cell_type": "markdown",
   "metadata": {},
   "source": [
    "$$ \\begin{bmatrix}\\sigma(x_1 * y_{155}) & \\sigma(x_2 * y_{155}) & \\sigma(x_3 * y_{155}) & \\ldots & \\sigma(x_{n}, y_{155})\\end{bmatrix} $$\n",
    "\n",
    "and \n",
    "\n",
    "$$ \\frac{\\partial Z}{\\partial X}_{155} = \\begin{bmatrix}\\sigma'(x_1 * y_{155}) * y_{155} &\n",
    "\\sigma'(x_2 * y_{155}) * y_{155} & \\sigma'(x_3 * y_{155}) * y_{155} & \\ldots & \\sigma'(x_{n} * y_{155}) * y_{155}\\end{bmatrix} $$\n",
    "\n"
   ]
  },
  {
   "cell_type": "markdown",
   "metadata": {},
   "source": [
    "### Complicated function"
   ]
  },
  {
   "cell_type": "markdown",
   "metadata": {},
   "source": [
    "$$\n",
    "\\begin{align}\n",
    "E =& e(X) \\\\\n",
    "F =& f(E) \\\\\n",
    "G =& g(Y) \\\\\n",
    "H =& h(G) \\\\\n",
    "F + H =& I \\\\\n",
    "j(I) =& J \\\\\n",
    "K(I) =& K \\\\\n",
    "\\end{align}\n",
    "$$"
   ]
  },
  {
   "cell_type": "markdown",
   "metadata": {},
   "source": [
    "### Matrix factorization of complicated function"
   ]
  },
  {
   "cell_type": "markdown",
   "metadata": {},
   "source": [
    "$$ \\frac{dK}{dy}((F(E(x)) + H(G(y))) = \n",
    "\\begin{bmatrix}\n",
    "\\frac{dK}{dy}(F(E(x_1)) + H(G(y_1))) & \\frac{dK}{dy}(F(E(x_2)) + H(G(y_1))) & \\frac{dK}{dy}(F(E(x_3)) + H(G(y_1))) \\\\\n",
    "\\frac{dK}{dy}(F(E(x_1)) + H(G(y_2))) & \\frac{dK}{dy}(F(E(x_2)) + H(G(y_2))) & \\frac{dK}{dy}(F(E(x_3)) + H(G(y_2))) \\\\\n",
    "\\frac{dK}{dy}(F(E(x_1)) + H(G(y_3))) & \\frac{dK}{dy}(F(E(x_2)) + H(G(y_3))) & \\frac{dK}{dy}(F(E(x_3)) + H(G(y_3))) \n",
    "\\end{bmatrix}\n",
    "$$\n",
    "\n"
   ]
  },
  {
   "cell_type": "markdown",
   "metadata": {},
   "source": [
    "Define:\n",
    "\n",
    "$$ F(E(x)) = F(x) $$\n",
    "$$ H(G(x)) = H(y) $$\n",
    "\n",
    "then"
   ]
  },
  {
   "cell_type": "markdown",
   "metadata": {},
   "source": [
    "$$ K(F(x) + H(y)) = \n",
    "\\begin{bmatrix}\n",
    "K(F(x_1) + H(y_1)) & K(F(x_2) + H(y_1)) & K(F(x_3) + H(y_1)) \\\\\n",
    "K(F(x_1) + H(y_2)) & K(F(x_2) + H(y_2)) & K(F(x_3) + H(y_2)) \\\\\n",
    "K(F(x_1) + H(y_3)) & K(F(x_2) + H(y_3)) & K(F(x_3) + H(y_3)) \\\\\n",
    "\\end{bmatrix}\n",
    "$$"
   ]
  },
  {
   "cell_type": "markdown",
   "metadata": {},
   "source": [
    "Now we want to compute $ \\frac{dK}{dy} $. It is:\n",
    "\n",
    "$$ \\frac{dK}{dy} = \n",
    "\\begin{bmatrix}\n",
    "\\frac{dK}{du}(F(x_1) + H(y_1)) * \\frac{dH}{dy}(y_1) & \n",
    "\\frac{dK}{du}(F(x_2) + H(y_1)) * \\frac{dH}{dy}(y_1) & \n",
    "\\frac{dK}{du}(F(x_3) + H(y_1)) * \\frac{dH}{dy}(y_1) \\\\\n",
    "\\frac{dK}{du}(F(x_1) + H(y_2)) * \\frac{dH}{dy}(y_2) & \n",
    "\\frac{dK}{du}(F(x_2) + H(y_2)) * \\frac{dH}{dy}(y_2) & \n",
    "\\frac{dK}{du}(F(x_3) + H(y_2)) * \\frac{dH}{dy}(y_2) \\\\\n",
    "\\frac{dK}{du}(F(x_1) + H(y_3)) * \\frac{dH}{dy}(y_3) & \n",
    "\\frac{dK}{du}(F(x_2) + H(y_3)) * \\frac{dH}{dy}(y_3) & \n",
    "\\frac{dK}{du}(F(x_3) + H(y_3)) * \\frac{dH}{dy}(y_3)\n",
    "\\end{bmatrix} \\\\ = \n",
    "\\begin{bmatrix}\n",
    "\\frac{dH}{dy}(y_1) \\\\ \\frac{dH}{dy}(y_2) \\\\ \\frac{dH}{dy}(y_3)\n",
    "\\end{bmatrix}\n",
    "* \\begin{bmatrix}\n",
    "\\frac{dK}{du}(F(x_1) + H(y_1)) & \n",
    "\\frac{dK}{du}(F(x_2) + H(y_1)) & \n",
    "\\frac{dK}{du}(F(x_3) + H(y_1)) \\\\\n",
    "\\frac{dK}{du}(F(x_1) + H(y_2)) & \n",
    "\\frac{dK}{du}(F(x_2) + H(y_2)) & \n",
    "\\frac{dK}{du}(F(x_3) + H(y_2)) \\\\\n",
    "\\frac{dK}{du}(F(x_1) + H(y_3)) & \n",
    "\\frac{dK}{du}(F(x_2) + H(y_3)) & \n",
    "\\frac{dK}{du}(F(x_3) + H(y_3))\n",
    "\\end{bmatrix}\n",
    "$$"
   ]
  },
  {
   "cell_type": "markdown",
   "metadata": {},
   "source": [
    "$$\n",
    "\\begin{align}\n",
    "\\frac{\\partial K}{\\partial Y} =&\n",
    "\\begin{bmatrix}K'(F(x_1) + H(y_1)) * H'(y_1) & K'(F(x_2) + H(y_1)) * H'(y_1) & K'(F(x_3) + H(y_1)) * H'(y_1) & \\ldots & K'(F(x_n) + H(y_1)) * H'(y_1)\\\\\n",
    "K'(F(x_1) + H(y_2)) * H'(y_2) & K'(F(x_2) + H(y_2)) * H'(y_2) & K'(F(x_3) + H(y_2)) * H'(y_2) & \\ldots & K'(F(x_n) + H(y_2)) * H'(y_2)\\\\\n",
    "K'(F(x_1) + H(y_3)) * H'(y_3) & K'(F(x_2) + H(y_3)) * H'(y_3) & K'(F(x_3) + H(y_3)) * H'(y_3) & \\ldots & K'(F(x_n) + H(y_3)) * H'(y_3)\\\\\n",
    "\\vdots & \\vdots & \\vdots & \\ddots & \\vdots\\\\\n",
    "K'(F(x_1) + H(y_n)) * H'(y_n) & K'(F(x_2) + H(y_n)) * H'(y_n) & K'(F(x_3) + H(y_n)) * H'(y_n) & \\ldots & K'(F(x_n) + H(y_n)) * H'(y_n)\\\\\n",
    "\\end{bmatrix}\\\\\n",
    " =&\n",
    "\\begin{bmatrix}H'(y_1) \\\\ H'(y_2) \\\\ H'(y_3) \\\\ \\ldots \\\\ H'(y_n)\\end{bmatrix} \\cdot\n",
    "\\begin{bmatrix}\n",
    "K'(F(x_1) + H(y_1)) & K'(F(x_2) + H(y_1)) & K'(F(x_3) + H(y_1)) & \\ldots & K'(F(x_n) + H(y_1))\\\\\n",
    "K'(F(x_1) + H(y_2)) & K'(F(x_2) + H(y_2)) & K'(F(x_3) + H(y_2)) & \\ldots & K'(F(x_n) + H(y_2))\\\\\n",
    "K'(F(x_1) + H(y_3)) & K'(F(x_2) + H(y_3)) & K'(F(x_3) + H(y_3)) & \\ldots & K'(F(x_n) + H(y_3))\\\\\n",
    "\\vdots & \\vdots & \\vdots & \\ddots & \\vdots\\\\\n",
    "K'(F(x_1) + H(y_n)) & K'(F(x_2) + H(y_n)) & K'(F(x_3) + H(y_n)) & \\ldots & K'(F(x_n) + H(y_n))\\\\\n",
    "\\end{bmatrix}\n",
    "\\end{align}$$"
   ]
  },
  {
   "cell_type": "code",
   "execution_count": null,
   "metadata": {},
   "outputs": [],
   "source": []
  }
 ],
 "metadata": {
  "kernelspec": {
   "display_name": "Python 3",
   "language": "python",
   "name": "python3"
  },
  "language_info": {
   "codemirror_mode": {
    "name": "ipython",
    "version": 3
   },
   "file_extension": ".py",
   "mimetype": "text/x-python",
   "name": "python",
   "nbconvert_exporter": "python",
   "pygments_lexer": "ipython3",
   "version": "3.6.6"
  }
 },
 "nbformat": 4,
 "nbformat_minor": 2
}
